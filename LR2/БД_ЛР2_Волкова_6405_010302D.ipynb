{
  "nbformat": 4,
  "nbformat_minor": 0,
  "metadata": {
    "colab": {
      "provenance": []
    },
    "kernelspec": {
      "name": "python3",
      "display_name": "Python 3"
    },
    "language_info": {
      "name": "python"
    }
  },
  "cells": [
    {
      "cell_type": "code",
      "execution_count": null,
      "metadata": {
        "id": "OF16H2kQEvpD"
      },
      "outputs": [],
      "source": [
        "from pyspark import SparkContext, SparkConf\n",
        "import pyspark.sql as sql\n",
        "from pyspark.sql import functions as F\n",
        "from pyspark.sql import SparkSession\n",
        "from pyspark.sql.window import Window\n",
        "from pyspark.sql.types import DoubleType, IntegerType, ArrayType, StringType\n",
        "from pyspark.sql.functions import udf, desc, col, max, sum, countDistinct, explode, rank\n",
        "from typing import List\n",
        "import os\n",
        "import re"
      ]
    },
    {
      "cell_type": "code",
      "source": [
        "!apt-get install openjdk-11-jdk-headless -qq > /dev/null\n",
        "!rm spark-3.5.5-bin-hadoop3.tgz\n",
        "!wget -q http://archive.apache.org/dist/spark/spark-3.5.5/spark-3.5.5-bin-hadoop3.tgz\n",
        "!tar xf spark-3.5.5-bin-hadoop3.tgz\n",
        "\n",
        "os.environ[\"JAVA_HOME\"] = \"/usr/lib/jvm/java-11-openjdk-amd64\"\n",
        "os.environ[\"SPARK_HOME\"] = \"/content/spark-3.5.5-bin-hadoop3\"\n",
        "\n",
        "!pip install findspark # для нахождения spark в системе\n",
        "import findspark\n",
        "findspark.init()"
      ],
      "metadata": {
        "colab": {
          "base_uri": "https://localhost:8080/"
        },
        "id": "sRAEL5HAFT-7",
        "outputId": "666c1ca9-38df-4968-d830-8fd33e5e583c"
      },
      "execution_count": null,
      "outputs": [
        {
          "output_type": "stream",
          "name": "stdout",
          "text": [
            "Requirement already satisfied: findspark in /usr/local/lib/python3.11/dist-packages (2.0.1)\n"
          ]
        }
      ]
    },
    {
      "cell_type": "code",
      "source": [
        "posts_path = 'posts_sample.xml'\n",
        "langs_path = 'programming-languages.csv'"
      ],
      "metadata": {
        "id": "2S6ZR8nLaW4O"
      },
      "execution_count": null,
      "outputs": []
    },
    {
      "cell_type": "code",
      "source": [
        "spark = SparkSession \\\n",
        "  .builder \\\n",
        "  .appName(\"l2_2010_2020_programming_languages_data\") \\\n",
        "  .config(\"spark.jars.packages\", \"com.databricks:spark-xml_2.12:0.13.0\")\\\n",
        "  .getOrCreate()\n",
        "\n",
        "print(\"version spark:\", spark.version)"
      ],
      "metadata": {
        "colab": {
          "base_uri": "https://localhost:8080/"
        },
        "id": "uU3NvmjQFdfa",
        "outputId": "e9af20ed-3b89-4396-d567-7bf9ac84abf8"
      },
      "execution_count": null,
      "outputs": [
        {
          "output_type": "stream",
          "name": "stdout",
          "text": [
            "version spark: 3.5.5\n"
          ]
        }
      ]
    },
    {
      "cell_type": "code",
      "source": [
        "posts_df = spark.read \\\n",
        "  .format('xml') \\\n",
        "  .options(rowTag='row') \\\n",
        "  .load(posts_path)\n",
        "print(\"posts:\")\n",
        "posts_df.printSchema()"
      ],
      "metadata": {
        "colab": {
          "base_uri": "https://localhost:8080/"
        },
        "id": "5uU5_7vGFhTy",
        "outputId": "1b552a74-94f6-4b36-d848-cf0a1d314512"
      },
      "execution_count": null,
      "outputs": [
        {
          "output_type": "stream",
          "name": "stdout",
          "text": [
            "posts:\n",
            "root\n",
            " |-- _AcceptedAnswerId: long (nullable = true)\n",
            " |-- _AnswerCount: long (nullable = true)\n",
            " |-- _Body: string (nullable = true)\n",
            " |-- _ClosedDate: timestamp (nullable = true)\n",
            " |-- _CommentCount: long (nullable = true)\n",
            " |-- _CommunityOwnedDate: timestamp (nullable = true)\n",
            " |-- _CreationDate: timestamp (nullable = true)\n",
            " |-- _FavoriteCount: long (nullable = true)\n",
            " |-- _Id: long (nullable = true)\n",
            " |-- _LastActivityDate: timestamp (nullable = true)\n",
            " |-- _LastEditDate: timestamp (nullable = true)\n",
            " |-- _LastEditorDisplayName: string (nullable = true)\n",
            " |-- _LastEditorUserId: long (nullable = true)\n",
            " |-- _OwnerDisplayName: string (nullable = true)\n",
            " |-- _OwnerUserId: long (nullable = true)\n",
            " |-- _ParentId: long (nullable = true)\n",
            " |-- _PostTypeId: long (nullable = true)\n",
            " |-- _Score: long (nullable = true)\n",
            " |-- _Tags: string (nullable = true)\n",
            " |-- _Title: string (nullable = true)\n",
            " |-- _ViewCount: long (nullable = true)\n",
            "\n"
          ]
        }
      ]
    },
    {
      "cell_type": "code",
      "source": [
        "# приведение списка языков к нижнему регистру, переименовывание в tag\n",
        "langs_df = spark.read \\\n",
        "  .option(\"header\", True) \\\n",
        "  .option(\"inferSchema\", True) \\\n",
        "  .csv(langs_path) \\\n",
        "  .withColumn(\"tag\", F.lower(col(\"name\"))) \\\n",
        "  .select(\"tag\")\n",
        "\n",
        "print(\"programming languages:\")\n",
        "langs_df.printSchema()"
      ],
      "metadata": {
        "colab": {
          "base_uri": "https://localhost:8080/"
        },
        "id": "0CCwtIq2FkY6",
        "outputId": "b06c50c9-a3c4-4aa0-9ddb-f51104fde8ac"
      },
      "execution_count": null,
      "outputs": [
        {
          "output_type": "stream",
          "name": "stdout",
          "text": [
            "programming languages:\n",
            "root\n",
            " |-- tag: string (nullable = true)\n",
            "\n"
          ]
        }
      ]
    },
    {
      "cell_type": "code",
      "source": [
        "# udf для извлечения массива тегов\n",
        "def extract_tags(tag_string):\n",
        "  if not tag_string:\n",
        "    return []\n",
        "  return re.findall(r'<(.+?)>', tag_string)\n",
        "\n",
        "# udf для извлечение года\n",
        "def extract_year(ts):\n",
        "  return ts.year\n",
        "\n",
        "tags_udf = udf(extract_tags, ArrayType(StringType()))\n",
        "year_udf = udf(extract_year, IntegerType())\n",
        "\n",
        "# отбор колонок с тегами, годами и просмотрами\n",
        "simplified_posts_df = posts_df \\\n",
        "  .withColumn(\"tags_list\", tags_udf(col(\"_Tags\"))) \\\n",
        "  .withColumn(\"year\", year_udf(col(\"_LastActivityDate\"))) \\\n",
        "  .select(col(\"tags_list\"), col(\"year\"), col(\"_ViewCount\").alias(\"views\"))\n",
        "\n",
        "for idx, row in enumerate(simplified_posts_df.head(10), start=1):\n",
        "  print(f\"{idx}: {row}\")"
      ],
      "metadata": {
        "colab": {
          "base_uri": "https://localhost:8080/"
        },
        "id": "CfgTjKqQMqV8",
        "outputId": "7cfca351-6282-4ef9-8b3b-aceca1aa4408"
      },
      "execution_count": null,
      "outputs": [
        {
          "output_type": "stream",
          "name": "stdout",
          "text": [
            "1: Row(tags_list=['c#', 'floating-point', 'type-conversion', 'double', 'decimal'], year=2019, views=42817)\n",
            "2: Row(tags_list=['html', 'css', 'internet-explorer-7'], year=2019, views=18214)\n",
            "3: Row(tags_list=[], year=2017, views=None)\n",
            "4: Row(tags_list=['c#', '.net', 'datetime'], year=2019, views=555183)\n",
            "5: Row(tags_list=['c#', 'datetime', 'time', 'datediff', 'relative-time-span'], year=2019, views=149445)\n",
            "6: Row(tags_list=[], year=2018, views=None)\n",
            "7: Row(tags_list=['html', 'browser', 'timezone', 'user-agent', 'timezone-offset'], year=2019, views=176405)\n",
            "8: Row(tags_list=['.net', 'math'], year=2018, views=123231)\n",
            "9: Row(tags_list=[], year=2010, views=None)\n",
            "10: Row(tags_list=[], year=2010, views=None)\n"
          ]
        }
      ]
    },
    {
      "cell_type": "code",
      "source": [
        "# разбивка массива тегов в отдельные строки, приведение тега к нижнему регистру\n",
        "exploded_tags_df = simplified_posts_df \\\n",
        "  .select(col(\"year\"), explode(col(\"tags_list\")).alias(\"tag_raw\"), col(\"views\")) \\\n",
        "  .withColumn(\"tag\", F.lower(col(\"tag_raw\"))) \\\n",
        "  .drop(\"tag_raw\")"
      ],
      "metadata": {
        "id": "0I4MP8iha3eO"
      },
      "execution_count": null,
      "outputs": []
    },
    {
      "cell_type": "code",
      "source": [
        "# фильтрация данных, чтобы оставить записи с тегом в списке ЯП и годами 2010-2020\n",
        "filtered_df = exploded_tags_df \\\n",
        "  .join(langs_df, on=\"tag\", how=\"inner\") \\\n",
        "  .filter((col(\"year\") >= 2010) & (col(\"year\") <= 2020))"
      ],
      "metadata": {
        "id": "XmLA-va7a-he"
      },
      "execution_count": null,
      "outputs": []
    },
    {
      "cell_type": "code",
      "source": [
        "# группировка по году и ЯП, суммирование просмотров\n",
        "agg_df = filtered_df \\\n",
        "  .groupBy(\"year\", \"tag\") \\\n",
        "  .agg(sum(\"views\").alias(\"total_views\")) \\\n",
        "  .orderBy(\"year\", desc(\"total_views\"))\n",
        "\n",
        "agg_df.show()"
      ],
      "metadata": {
        "colab": {
          "base_uri": "https://localhost:8080/"
        },
        "id": "2iHelmfibDf2",
        "outputId": "532869ec-e548-44a0-9800-d83f9ae1cb55"
      },
      "execution_count": null,
      "outputs": [
        {
          "output_type": "stream",
          "name": "stdout",
          "text": [
            "+----+------------+-----------+\n",
            "|year|         tag|total_views|\n",
            "+----+------------+-----------+\n",
            "|2010|        java|      53333|\n",
            "|2010|      matlab|      51865|\n",
            "|2010| objective-c|      43878|\n",
            "|2010|         php|      39730|\n",
            "|2010|  javascript|      37059|\n",
            "|2010|      python|      25930|\n",
            "|2010|        ruby|      15864|\n",
            "|2010|           c|      13810|\n",
            "|2010|      delphi|       7680|\n",
            "|2010|           r|       7499|\n",
            "|2010|       xpath|       5122|\n",
            "|2010|actionscript|       5104|\n",
            "|2010|         sed|       4573|\n",
            "|2010|        perl|       3515|\n",
            "|2010|     haskell|       2601|\n",
            "|2010|        bash|       2171|\n",
            "|2010|       mouse|       1789|\n",
            "|2010|      scheme|       1539|\n",
            "|2010|      racket|       1539|\n",
            "|2010| applescript|       1462|\n",
            "+----+------------+-----------+\n",
            "only showing top 20 rows\n",
            "\n"
          ]
        }
      ]
    },
    {
      "cell_type": "code",
      "source": [
        "# ранжирование внутри каждого года и отбор топ 10 по ранкам\n",
        "window_by_year = Window.partitionBy(\"year\").orderBy(desc(\"total_views\"))\n",
        "ranked_df = agg_df \\\n",
        "  .withColumn(\"rank\", rank().over(window_by_year)) \\\n",
        "  .filter(col(\"rank\") <= 10) \\\n",
        "  .select(\"year\", \"rank\", \"tag\", \"total_views\") \\\n",
        "  .orderBy(\"year\", \"rank\")\n",
        "\n",
        "ranked_df.show(10, truncate=False)"
      ],
      "metadata": {
        "colab": {
          "base_uri": "https://localhost:8080/"
        },
        "id": "kd1zJmdObE5-",
        "outputId": "b1343310-dc26-4591-d9fc-2c8af362a560"
      },
      "execution_count": null,
      "outputs": [
        {
          "output_type": "stream",
          "name": "stdout",
          "text": [
            "+----+----+-----------+-----------+\n",
            "|year|rank|tag        |total_views|\n",
            "+----+----+-----------+-----------+\n",
            "|2010|1   |java       |53333      |\n",
            "|2010|2   |matlab     |51865      |\n",
            "|2010|3   |objective-c|43878      |\n",
            "|2010|4   |php        |39730      |\n",
            "|2010|5   |javascript |37059      |\n",
            "|2010|6   |python     |25930      |\n",
            "|2010|7   |ruby       |15864      |\n",
            "|2010|8   |c          |13810      |\n",
            "|2010|9   |delphi     |7680       |\n",
            "|2010|10  |r          |7499       |\n",
            "+----+----+-----------+-----------+\n",
            "only showing top 10 rows\n",
            "\n"
          ]
        }
      ]
    },
    {
      "cell_type": "code",
      "source": [
        "# сохранение отчета\n",
        "output_path = \"programming_languages_2010_2020_top10.parquet\"\n",
        "ranked_df.write \\\n",
        "  .partitionBy(\"year\") \\\n",
        "  .mode(\"overwrite\") \\\n",
        "  .parquet(output_path)\n",
        "\n",
        "ranked_df.show()"
      ],
      "metadata": {
        "id": "i6VLyXn7bH8-",
        "colab": {
          "base_uri": "https://localhost:8080/"
        },
        "outputId": "18f4f784-3651-45a2-9615-7cddba0cdf91"
      },
      "execution_count": null,
      "outputs": [
        {
          "output_type": "stream",
          "name": "stdout",
          "text": [
            "+----+----+-----------+-----------+\n",
            "|year|rank|        tag|total_views|\n",
            "+----+----+-----------+-----------+\n",
            "|2010|   1|       java|      53333|\n",
            "|2010|   2|     matlab|      51865|\n",
            "|2010|   3|objective-c|      43878|\n",
            "|2010|   4|        php|      39730|\n",
            "|2010|   5| javascript|      37059|\n",
            "|2010|   6|     python|      25930|\n",
            "|2010|   7|       ruby|      15864|\n",
            "|2010|   8|          c|      13810|\n",
            "|2010|   9|     delphi|       7680|\n",
            "|2010|  10|          r|       7499|\n",
            "|2011|   1|       java|     121315|\n",
            "|2011|   2|     python|      89637|\n",
            "|2011|   3|          c|      73116|\n",
            "|2011|   4|        php|      67341|\n",
            "|2011|   5| javascript|      61631|\n",
            "|2011|   6|objective-c|      54815|\n",
            "|2011|   7|          r|      14394|\n",
            "|2011|   8|       ruby|       9771|\n",
            "|2011|   9|     cython|       8109|\n",
            "|2011|  10|     delphi|       6724|\n",
            "+----+----+-----------+-----------+\n",
            "only showing top 20 rows\n",
            "\n"
          ]
        }
      ]
    },
    {
      "cell_type": "code",
      "source": [
        "# удаление отчета\n",
        "import shutil\n",
        "shutil.rmtree(output_path)"
      ],
      "metadata": {
        "id": "KppEs7Tkfvg_"
      },
      "execution_count": null,
      "outputs": []
    }
  ]
}