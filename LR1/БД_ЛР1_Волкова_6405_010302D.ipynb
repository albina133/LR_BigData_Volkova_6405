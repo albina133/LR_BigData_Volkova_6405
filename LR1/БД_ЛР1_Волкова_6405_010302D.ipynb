{
  "nbformat": 4,
  "nbformat_minor": 0,
  "metadata": {
    "colab": {
      "provenance": []
    },
    "kernelspec": {
      "name": "python3",
      "display_name": "Python 3"
    }
  },
  "cells": [
    {
      "cell_type": "markdown",
      "metadata": {
        "id": "82OvPKEiEqjc"
      },
      "source": [
        "# Введение в MapReduce модель на Python\n"
      ]
    },
    {
      "cell_type": "code",
      "metadata": {
        "id": "JQ2cvXLjICmI"
      },
      "source": [
        "from typing import NamedTuple # requires python 3.6+\n",
        "from typing import Iterator"
      ],
      "execution_count": null,
      "outputs": []
    },
    {
      "cell_type": "code",
      "metadata": {
        "id": "yjPHumVwEyEg"
      },
      "source": [
        "def MAP(_, row:NamedTuple):\n",
        "  if (row.gender == 'female'):\n",
        "    yield (row.age, row)\n",
        "\n",
        "def REDUCE(age:str, rows:Iterator[NamedTuple]):\n",
        "  sum = 0\n",
        "  count = 0\n",
        "  for row in rows:\n",
        "    sum += row.social_contacts\n",
        "    count += 1\n",
        "  if (count > 0):\n",
        "    yield (age, sum/count)\n",
        "  else:\n",
        "    yield (age, 0)"
      ],
      "execution_count": null,
      "outputs": []
    },
    {
      "cell_type": "markdown",
      "metadata": {
        "id": "vBKMgpG_ilaZ"
      },
      "source": [
        "Модель элемента данных"
      ]
    },
    {
      "cell_type": "code",
      "metadata": {
        "id": "Rv-XIjhTJPx3"
      },
      "source": [
        "class User(NamedTuple):\n",
        "  id: int\n",
        "  age: str\n",
        "  social_contacts: int\n",
        "  gender: str"
      ],
      "execution_count": null,
      "outputs": []
    },
    {
      "cell_type": "code",
      "metadata": {
        "id": "5KV0Ze2vQgu5"
      },
      "source": [
        "input_collection = [\n",
        "    User(id=0, age=55, gender='male', social_contacts=20),\n",
        "    User(id=1, age=25, gender='female', social_contacts=240),\n",
        "    User(id=2, age=25, gender='female', social_contacts=500),\n",
        "    User(id=3, age=33, gender='female', social_contacts=800)\n",
        "]"
      ],
      "execution_count": null,
      "outputs": []
    },
    {
      "cell_type": "markdown",
      "metadata": {
        "id": "YFeqzyZxZIFZ"
      },
      "source": [
        "Функция RECORDREADER моделирует чтение элементов с диска или по сети."
      ]
    },
    {
      "cell_type": "code",
      "metadata": {
        "id": "S5HR4E_GQoMJ"
      },
      "source": [
        "def RECORDREADER():\n",
        "  return [(u.id, u) for u in input_collection]"
      ],
      "execution_count": null,
      "outputs": []
    },
    {
      "cell_type": "code",
      "metadata": {
        "id": "NeEoWla-ROUy",
        "colab": {
          "base_uri": "https://localhost:8080/"
        },
        "outputId": "43982c88-d307-42bd-dacd-caab6ebc5258"
      },
      "source": [
        "list(RECORDREADER())"
      ],
      "execution_count": null,
      "outputs": [
        {
          "output_type": "execute_result",
          "data": {
            "text/plain": [
              "[(0, User(id=0, age=55, social_contacts=20, gender='male')),\n",
              " (1, User(id=1, age=25, social_contacts=240, gender='female')),\n",
              " (2, User(id=2, age=25, social_contacts=500, gender='female')),\n",
              " (3, User(id=3, age=33, social_contacts=800, gender='female'))]"
            ]
          },
          "metadata": {},
          "execution_count": 6
        }
      ]
    },
    {
      "cell_type": "code",
      "metadata": {
        "id": "YB8orgPSZs8M"
      },
      "source": [
        "def flatten(nested_iterable):\n",
        "  for iterable in nested_iterable:\n",
        "    for element in iterable:\n",
        "      yield element"
      ],
      "execution_count": null,
      "outputs": []
    },
    {
      "cell_type": "code",
      "metadata": {
        "id": "74oyvDLaRmd5",
        "colab": {
          "base_uri": "https://localhost:8080/"
        },
        "outputId": "3a81e8e6-a662-437c-f873-dcecee7cf834"
      },
      "source": [
        "map_output = flatten(map(lambda x: MAP(*x), RECORDREADER()))\n",
        "map_output = list(map_output) # materialize\n",
        "map_output"
      ],
      "execution_count": null,
      "outputs": [
        {
          "output_type": "execute_result",
          "data": {
            "text/plain": [
              "[(25, User(id=1, age=25, social_contacts=240, gender='female')),\n",
              " (25, User(id=2, age=25, social_contacts=500, gender='female')),\n",
              " (33, User(id=3, age=33, social_contacts=800, gender='female'))]"
            ]
          },
          "metadata": {},
          "execution_count": 8
        }
      ]
    },
    {
      "cell_type": "code",
      "metadata": {
        "id": "8ncYDJ3-VzDn"
      },
      "source": [
        "def groupbykey(iterable):\n",
        "  t = {}\n",
        "  for (k2, v2) in iterable:\n",
        "    t[k2] = t.get(k2, []) + [v2]\n",
        "  return t.items()"
      ],
      "execution_count": null,
      "outputs": []
    },
    {
      "cell_type": "code",
      "metadata": {
        "id": "cKzY_6COWOA2",
        "colab": {
          "base_uri": "https://localhost:8080/"
        },
        "outputId": "084db85f-c8ac-4bd8-e068-864df1c0e93a"
      },
      "source": [
        "shuffle_output = groupbykey(map_output)\n",
        "shuffle_output = list(shuffle_output)\n",
        "shuffle_output"
      ],
      "execution_count": null,
      "outputs": [
        {
          "output_type": "execute_result",
          "data": {
            "text/plain": [
              "[(25,\n",
              "  [User(id=1, age=25, social_contacts=240, gender='female'),\n",
              "   User(id=2, age=25, social_contacts=500, gender='female')]),\n",
              " (33, [User(id=3, age=33, social_contacts=800, gender='female')])]"
            ]
          },
          "metadata": {},
          "execution_count": 10
        }
      ]
    },
    {
      "cell_type": "code",
      "metadata": {
        "id": "NlA7lkDDYL0t",
        "colab": {
          "base_uri": "https://localhost:8080/"
        },
        "outputId": "13acddce-f39e-4b61-c53f-a07fe546af1c"
      },
      "source": [
        "reduce_output = flatten(map(lambda x: REDUCE(*x), shuffle_output))\n",
        "reduce_output = list(reduce_output)\n",
        "reduce_output"
      ],
      "execution_count": null,
      "outputs": [
        {
          "output_type": "execute_result",
          "data": {
            "text/plain": [
              "[(25, 370.0), (33, 800.0)]"
            ]
          },
          "metadata": {},
          "execution_count": 11
        }
      ]
    },
    {
      "cell_type": "markdown",
      "metadata": {
        "id": "xf6qhHEtd6bI"
      },
      "source": [
        "Все действия одним конвейером!"
      ]
    },
    {
      "cell_type": "code",
      "metadata": {
        "id": "dZaQGYxCdpw5",
        "colab": {
          "base_uri": "https://localhost:8080/"
        },
        "outputId": "a43d86a1-7c21-4f9c-910d-ebfb6cd72227"
      },
      "source": [
        "list(flatten(map(lambda x: REDUCE(*x), groupbykey(flatten(map(lambda x: MAP(*x), RECORDREADER()))))))"
      ],
      "execution_count": null,
      "outputs": [
        {
          "output_type": "execute_result",
          "data": {
            "text/plain": [
              "[(25, 370.0), (33, 800.0)]"
            ]
          },
          "metadata": {},
          "execution_count": 12
        }
      ]
    },
    {
      "cell_type": "markdown",
      "metadata": {
        "id": "Vq3EWRIpwSiJ"
      },
      "source": [
        "# **MapReduce**\n",
        "Выделим общую для всех пользователей часть системы в отдельную функцию высшего порядка. Это наиболее простая модель MapReduce, без учёта распределённого хранения данных.\n",
        "\n",
        "Пользователь для решения своей задачи реализует RECORDREADER, MAP, REDUCE."
      ]
    },
    {
      "cell_type": "code",
      "metadata": {
        "id": "V1PZeQMwwVjc"
      },
      "source": [
        "def flatten(nested_iterable):\n",
        "  for iterable in nested_iterable:\n",
        "    for element in iterable:\n",
        "      yield element\n",
        "\n",
        "def groupbykey(iterable):\n",
        "  t = {}\n",
        "  for (k2, v2) in iterable:\n",
        "    t[k2] = t.get(k2, []) + [v2]\n",
        "  return t.items()\n",
        "\n",
        "def MapReduce(RECORDREADER, MAP, REDUCE):\n",
        "  return flatten(map(lambda x: REDUCE(*x), groupbykey(flatten(map(lambda x: MAP(*x), RECORDREADER())))))"
      ],
      "execution_count": null,
      "outputs": []
    },
    {
      "cell_type": "markdown",
      "metadata": {
        "id": "iFIVrimep678"
      },
      "source": [
        "## Спецификация MapReduce\n",
        "\n",
        "\n",
        "\n",
        "```\n",
        "f (k1, v1) -> (k2,v2)*\n",
        "g (k2, v2*) -> (k3,v3)*\n",
        "\n",
        "mapreduce ((k1,v1)*) -> (k3,v3)*\n",
        "groupby ((k2,v2)*) -> (k2,v2*)*\n",
        "flatten (e2**) -> e2*\n",
        "\n",
        "mapreduce .map(f).flatten.groupby(k2).map(g).flatten\n",
        "```\n",
        "\n",
        "\n"
      ]
    },
    {
      "cell_type": "markdown",
      "metadata": {
        "id": "QtTFyqke3KGe"
      },
      "source": [
        "# Примеры"
      ]
    },
    {
      "cell_type": "markdown",
      "metadata": {
        "id": "BNhh5763w5Vn"
      },
      "source": [
        "## SQL"
      ]
    },
    {
      "cell_type": "code",
      "metadata": {
        "id": "QkyurnvGxBGk",
        "colab": {
          "base_uri": "https://localhost:8080/"
        },
        "outputId": "8129ada4-b240-4f50-faed-e23f890a924d"
      },
      "source": [
        "from typing import NamedTuple # requires python 3.6+\n",
        "from typing import Iterator\n",
        "\n",
        "class User(NamedTuple):\n",
        "  id: int\n",
        "  age: str\n",
        "  social_contacts: int\n",
        "  gender: str\n",
        "\n",
        "input_collection = [\n",
        "    User(id=0, age=55, gender='male', social_contacts=20),\n",
        "    User(id=1, age=25, gender='female', social_contacts=240),\n",
        "    User(id=2, age=25, gender='female', social_contacts=500),\n",
        "    User(id=3, age=33, gender='female', social_contacts=800)\n",
        "]\n",
        "\n",
        "def MAP(_, row:NamedTuple):\n",
        "  if (row.gender == 'female'):\n",
        "    yield (row.age, row)\n",
        "\n",
        "def REDUCE(age:str, rows:Iterator[NamedTuple]):\n",
        "  sum = 0\n",
        "  count = 0\n",
        "  for row in rows:\n",
        "    sum += row.social_contacts\n",
        "    count += 1\n",
        "  if (count > 0):\n",
        "    yield (age, sum/count)\n",
        "  else:\n",
        "    yield (age, 0)\n",
        "\n",
        "def RECORDREADER():\n",
        "  return [(u.id, u) for u in input_collection]\n",
        "\n",
        "output = MapReduce(RECORDREADER, MAP, REDUCE)\n",
        "output = list(output)\n",
        "output"
      ],
      "execution_count": null,
      "outputs": [
        {
          "output_type": "execute_result",
          "data": {
            "text/plain": [
              "[(25, 370.0), (33, 800.0)]"
            ]
          },
          "metadata": {},
          "execution_count": 14
        }
      ]
    },
    {
      "cell_type": "markdown",
      "metadata": {
        "id": "kNKYIeerx0nY"
      },
      "source": [
        "## Matrix-Vector multiplication"
      ]
    },
    {
      "cell_type": "code",
      "metadata": {
        "id": "rwcntRcCyi1V",
        "colab": {
          "base_uri": "https://localhost:8080/"
        },
        "outputId": "7f60ee53-8572-4e01-dbaf-0a795ba6d6b2"
      },
      "source": [
        "from typing import Iterator\n",
        "import numpy as np\n",
        "\n",
        "mat = np.ones((5,4))\n",
        "vec = np.random.rand(4) # in-memory vector in all map tasks\n",
        "\n",
        "def MAP(coordinates:(int, int), value:int):\n",
        "  i, j = coordinates\n",
        "  yield (i, value*vec[j])\n",
        "\n",
        "def REDUCE(i:int, products:Iterator[NamedTuple]):\n",
        "  sum = 0\n",
        "  for p in products:\n",
        "    sum += p\n",
        "  yield (i, sum)\n",
        "\n",
        "def RECORDREADER():\n",
        "  for i in range(mat.shape[0]):\n",
        "    for j in range(mat.shape[1]):\n",
        "      yield ((i, j), mat[i,j])\n",
        "\n",
        "output = MapReduce(RECORDREADER, MAP, REDUCE)\n",
        "output = list(output)\n",
        "output"
      ],
      "execution_count": null,
      "outputs": [
        {
          "output_type": "execute_result",
          "data": {
            "text/plain": [
              "[(0, 2.9384918657156156),\n",
              " (1, 2.9384918657156156),\n",
              " (2, 2.9384918657156156),\n",
              " (3, 2.9384918657156156),\n",
              " (4, 2.9384918657156156)]"
            ]
          },
          "metadata": {},
          "execution_count": 15
        }
      ]
    },
    {
      "cell_type": "markdown",
      "metadata": {
        "id": "ruZREYdi2o4O"
      },
      "source": [
        "## Inverted index"
      ]
    },
    {
      "cell_type": "code",
      "metadata": {
        "id": "vt9H9Alf3TYv",
        "colab": {
          "base_uri": "https://localhost:8080/"
        },
        "outputId": "0e4069e7-86b5-43e0-f05d-a80557302075"
      },
      "source": [
        "from typing import Iterator\n",
        "\n",
        "d1 = \"it is what it is\"\n",
        "d2 = \"what is it\"\n",
        "d3 = \"it is a banana\"\n",
        "documents = [d1, d2, d3]\n",
        "\n",
        "def RECORDREADER():\n",
        "  for (docid, document) in enumerate(documents):\n",
        "    yield (\"{}\".format(docid), document)\n",
        "\n",
        "def MAP(docId:str, body:str):\n",
        "  for word in set(body.split(' ')):\n",
        "    yield (word, docId)\n",
        "\n",
        "def REDUCE(word:str, docIds:Iterator[str]):\n",
        "  yield (word, sorted(docIds))\n",
        "\n",
        "output = MapReduce(RECORDREADER, MAP, REDUCE)\n",
        "output = list(output)\n",
        "output"
      ],
      "execution_count": null,
      "outputs": [
        {
          "output_type": "execute_result",
          "data": {
            "text/plain": [
              "[('what', ['0', '1']),\n",
              " ('is', ['0', '1', '2']),\n",
              " ('it', ['0', '1', '2']),\n",
              " ('a', ['2']),\n",
              " ('banana', ['2'])]"
            ]
          },
          "metadata": {},
          "execution_count": 16
        }
      ]
    },
    {
      "cell_type": "markdown",
      "metadata": {
        "id": "R7az-6DA6qr2"
      },
      "source": [
        "## WordCount"
      ]
    },
    {
      "cell_type": "code",
      "metadata": {
        "id": "dN-nbtgG6uYG",
        "colab": {
          "base_uri": "https://localhost:8080/"
        },
        "outputId": "bf540bbe-e2b8-4705-8324-58af2bb8de36"
      },
      "source": [
        "from typing import Iterator\n",
        "\n",
        "d1 = \"\"\"\n",
        "it is what it is\n",
        "it is what it is\n",
        "it is what it is\"\"\"\n",
        "d2 = \"\"\"\n",
        "what is it\n",
        "what is it\"\"\"\n",
        "d3 = \"\"\"\n",
        "it is a banana\"\"\"\n",
        "documents = [d1, d2, d3]\n",
        "\n",
        "def RECORDREADER():\n",
        "  for (docid, document) in enumerate(documents):\n",
        "    for (lineid, line) in enumerate(document.split('\\n')):\n",
        "      yield (\"{}:{}\".format(docid,lineid), line)\n",
        "\n",
        "def MAP(docId:str, line:str):\n",
        "  for word in line.split(\" \"):\n",
        "    yield (word, 1)\n",
        "\n",
        "def REDUCE(word:str, counts:Iterator[int]):\n",
        "  sum = 0\n",
        "  for c in counts:\n",
        "    sum += c\n",
        "  yield (word, sum)\n",
        "\n",
        "output = MapReduce(RECORDREADER, MAP, REDUCE)\n",
        "output = list(output)\n",
        "output"
      ],
      "execution_count": null,
      "outputs": [
        {
          "output_type": "execute_result",
          "data": {
            "text/plain": [
              "[('', 3), ('it', 9), ('is', 9), ('what', 5), ('a', 1), ('banana', 1)]"
            ]
          },
          "metadata": {},
          "execution_count": 17
        }
      ]
    },
    {
      "cell_type": "markdown",
      "metadata": {
        "id": "h-jRAcYCAkkk"
      },
      "source": [
        "# MapReduce Distributed\n",
        "\n",
        "Добавляется в модель фабрика RECORDREARER-ов --- INPUTFORMAT, функция распределения промежуточных результатов по партициям PARTITIONER, и функция COMBINER для частичной аггрегации промежуточных результатов до распределения по новым партициям."
      ]
    },
    {
      "cell_type": "code",
      "metadata": {
        "id": "nw-b-xJsApgW"
      },
      "source": [
        "def flatten(nested_iterable):\n",
        "  for iterable in nested_iterable:\n",
        "    for element in iterable:\n",
        "      yield element\n",
        "\n",
        "def groupbykey(iterable):\n",
        "  t = {}\n",
        "  for (k2, v2) in iterable:\n",
        "    t[k2] = t.get(k2, []) + [v2]\n",
        "  return t.items()\n",
        "\n",
        "def groupbykey_distributed(map_partitions, PARTITIONER):\n",
        "  global reducers\n",
        "  partitions = [dict() for _ in range(reducers)]\n",
        "  for map_partition in map_partitions:\n",
        "    for (k2, v2) in map_partition:\n",
        "      p = partitions[PARTITIONER(k2)]\n",
        "      p[k2] = p.get(k2, []) + [v2]\n",
        "  return [(partition_id, sorted(partition.items(), key=lambda x: x[0])) for (partition_id, partition) in enumerate(partitions)]\n",
        "\n",
        "def PARTITIONER(obj):\n",
        "  global reducers\n",
        "  return hash(obj) % reducers\n",
        "\n",
        "def MapReduceDistributed(INPUTFORMAT, MAP, REDUCE, PARTITIONER=PARTITIONER, COMBINER=None):\n",
        "  map_partitions = map(lambda record_reader: flatten(map(lambda k1v1: MAP(*k1v1), record_reader)), INPUTFORMAT())\n",
        "  if COMBINER != None:\n",
        "    map_partitions = map(lambda map_partition: flatten(map(lambda k2v2: COMBINER(*k2v2), groupbykey(map_partition))), map_partitions)\n",
        "  reduce_partitions = groupbykey_distributed(map_partitions, PARTITIONER) # shuffle\n",
        "  reduce_outputs = map(lambda reduce_partition: (reduce_partition[0], flatten(map(lambda reduce_input_group: REDUCE(*reduce_input_group), reduce_partition[1]))), reduce_partitions)\n",
        "\n",
        "  print(\"{} key-value pairs were sent over a network.\".format(sum([len(vs) for (k,vs) in flatten([partition for (partition_id, partition) in reduce_partitions])])))\n",
        "  return reduce_outputs"
      ],
      "execution_count": null,
      "outputs": []
    },
    {
      "cell_type": "markdown",
      "metadata": {
        "id": "kxirlf3XqZxY"
      },
      "source": [
        "## Спецификация MapReduce Distributed\n",
        "\n",
        "\n",
        "```\n",
        "f (k1, v1) -> (k2,v2)*\n",
        "g (k2, v2*) -> (k3,v3)*\n",
        "\n",
        "e1 (k1, v1)\n",
        "e2 (k2, v2)\n",
        "partition1 (k2, v2)*\n",
        "partition2 (k2, v2*)*\n",
        "\n",
        "flatmap (e1->e2*, e1*) -> partition1*\n",
        "groupby (partition1*) -> partition2*\n",
        "\n",
        "mapreduce ((k1,v1)*) -> (k3,v3)*\n",
        "mapreduce .flatmap(f).groupby(k2).flatmap(g)\n",
        "```\n",
        "\n"
      ]
    },
    {
      "cell_type": "markdown",
      "metadata": {
        "id": "CWYw_CpbbY3C"
      },
      "source": [
        "## WordCount"
      ]
    },
    {
      "cell_type": "code",
      "metadata": {
        "id": "uR_zfGFkMZlp",
        "colab": {
          "base_uri": "https://localhost:8080/"
        },
        "outputId": "d9713552-559c-48ed-8651-fcbd37e21885"
      },
      "source": [
        "from typing import Iterator\n",
        "import numpy as np\n",
        "\n",
        "d1 = \"\"\"\n",
        "it is what it is\n",
        "it is what it is\n",
        "it is what it is\"\"\"\n",
        "d2 = \"\"\"\n",
        "what is it\n",
        "what is it\"\"\"\n",
        "d3 = \"\"\"\n",
        "it is a banana\"\"\"\n",
        "documents = [d1, d2, d3, d1, d2, d3]\n",
        "\n",
        "maps = 3\n",
        "reducers = 2\n",
        "\n",
        "def INPUTFORMAT():\n",
        "  global maps\n",
        "\n",
        "  def RECORDREADER(split):\n",
        "    for (docid, document) in enumerate(split):\n",
        "      for (lineid, line) in enumerate(document.split('\\n')):\n",
        "        yield (\"{}:{}\".format(docid,lineid), line)\n",
        "\n",
        "  split_size =  int(np.ceil(len(documents)/maps))\n",
        "  for i in range(0, len(documents), split_size):\n",
        "    yield RECORDREADER(documents[i:i+split_size])\n",
        "\n",
        "def MAP(docId:str, line:str):\n",
        "  for word in line.split(\" \"):\n",
        "    yield (word, 1)\n",
        "\n",
        "def REDUCE(word:str, counts:Iterator[int]):\n",
        "  sum = 0\n",
        "  for c in counts:\n",
        "    sum += c\n",
        "  yield (word, sum)\n",
        "\n",
        "# try to set COMBINER=REDUCER and look at the number of values sent over the network\n",
        "partitioned_output = MapReduceDistributed(INPUTFORMAT, MAP, REDUCE, COMBINER=None)\n",
        "partitioned_output = [(partition_id, list(partition)) for (partition_id, partition) in partitioned_output]\n",
        "partitioned_output"
      ],
      "execution_count": null,
      "outputs": [
        {
          "output_type": "stream",
          "name": "stdout",
          "text": [
            "56 key-value pairs were sent over a network.\n"
          ]
        },
        {
          "output_type": "execute_result",
          "data": {
            "text/plain": [
              "[(0, [('', 6), ('a', 2), ('it', 18)]),\n",
              " (1, [('banana', 2), ('is', 18), ('what', 10)])]"
            ]
          },
          "metadata": {},
          "execution_count": 2
        }
      ]
    },
    {
      "cell_type": "markdown",
      "metadata": {
        "id": "gCJGx8IQ87xS"
      },
      "source": [
        "## TeraSort"
      ]
    },
    {
      "cell_type": "code",
      "metadata": {
        "id": "P2v8v1v_8_YR",
        "colab": {
          "base_uri": "https://localhost:8080/"
        },
        "outputId": "eb9ac1d5-b2fd-4b1c-e387-ee2bb37eaab1"
      },
      "source": [
        "import numpy as np\n",
        "\n",
        "input_values = np.random.rand(30)\n",
        "maps = 3\n",
        "reducers = 2\n",
        "min_value = 0.0\n",
        "max_value = 1.0\n",
        "\n",
        "def INPUTFORMAT():\n",
        "  global maps\n",
        "\n",
        "  def RECORDREADER(split):\n",
        "    for value in split:\n",
        "        yield (value, None)\n",
        "\n",
        "  split_size =  int(np.ceil(len(input_values)/maps))\n",
        "  for i in range(0, len(input_values), split_size):\n",
        "    yield RECORDREADER(input_values[i:i+split_size])\n",
        "\n",
        "def MAP(value:int, _):\n",
        "  yield (value, None)\n",
        "\n",
        "def PARTITIONER(key):\n",
        "  global reducers\n",
        "  global max_value\n",
        "  global min_value\n",
        "  bucket_size = (max_value-min_value)/reducers\n",
        "  bucket_id = 0\n",
        "  while((key>(bucket_id+1)*bucket_size) and ((bucket_id+1)*bucket_size<max_value)):\n",
        "    bucket_id += 1\n",
        "  return bucket_id\n",
        "\n",
        "def REDUCE(value:int, _):\n",
        "  yield (None,value)\n",
        "\n",
        "partitioned_output = MapReduceDistributed(INPUTFORMAT, MAP, REDUCE, COMBINER=None, PARTITIONER=PARTITIONER)\n",
        "partitioned_output = [(partition_id, list(partition)) for (partition_id, partition) in partitioned_output]\n",
        "partitioned_output"
      ],
      "execution_count": null,
      "outputs": [
        {
          "output_type": "stream",
          "name": "stdout",
          "text": [
            "30 key-value pairs were sent over a network.\n"
          ]
        },
        {
          "output_type": "execute_result",
          "data": {
            "text/plain": [
              "[(0,\n",
              "  [(None, 0.007435339455865164),\n",
              "   (None, 0.02651165321186033),\n",
              "   (None, 0.08685660088271852),\n",
              "   (None, 0.1647210964530097),\n",
              "   (None, 0.1919425374830409),\n",
              "   (None, 0.1994892798595106),\n",
              "   (None, 0.21895693703011176),\n",
              "   (None, 0.22789553049321132),\n",
              "   (None, 0.25516778645330396),\n",
              "   (None, 0.25754177978471626),\n",
              "   (None, 0.25761201931660604),\n",
              "   (None, 0.26610200927064265),\n",
              "   (None, 0.2804514767733065),\n",
              "   (None, 0.2875844274898425),\n",
              "   (None, 0.34358953934561054),\n",
              "   (None, 0.4251476136834764),\n",
              "   (None, 0.43067826746495186),\n",
              "   (None, 0.45463240498727575),\n",
              "   (None, 0.4551076984436122),\n",
              "   (None, 0.4814882189862506)]),\n",
              " (1,\n",
              "  [(None, 0.5418394078091472),\n",
              "   (None, 0.550785619011714),\n",
              "   (None, 0.6153680955432717),\n",
              "   (None, 0.6811523777926556),\n",
              "   (None, 0.6853083302729692),\n",
              "   (None, 0.6898206790330181),\n",
              "   (None, 0.745951019451846),\n",
              "   (None, 0.8904613288171936),\n",
              "   (None, 0.9732111949630787),\n",
              "   (None, 0.9882439747917753)])]"
            ]
          },
          "metadata": {},
          "execution_count": 3
        }
      ]
    },
    {
      "cell_type": "code",
      "metadata": {
        "id": "MQhoJaVZI93G",
        "colab": {
          "base_uri": "https://localhost:8080/",
          "height": 73
        },
        "outputId": "94cc042d-3870-45c9-e521-aca86990a60e"
      },
      "source": [
        "# выборки данных из папки data для проверки (stations.csv, stations2.csv, stations_intersection)\n",
        "from google.colab import files\n",
        "\n",
        "uploaded = files.upload()"
      ],
      "execution_count": null,
      "outputs": [
        {
          "output_type": "display_data",
          "data": {
            "text/plain": [
              "<IPython.core.display.HTML object>"
            ],
            "text/html": [
              "\n",
              "     <input type=\"file\" id=\"files-1aff4d7f-b065-4304-a1b4-111c4d3de46d\" name=\"files[]\" multiple disabled\n",
              "        style=\"border:none\" />\n",
              "     <output id=\"result-1aff4d7f-b065-4304-a1b4-111c4d3de46d\">\n",
              "      Upload widget is only available when the cell has been executed in the\n",
              "      current browser session. Please rerun this cell to enable.\n",
              "      </output>\n",
              "      <script>// Copyright 2017 Google LLC\n",
              "//\n",
              "// Licensed under the Apache License, Version 2.0 (the \"License\");\n",
              "// you may not use this file except in compliance with the License.\n",
              "// You may obtain a copy of the License at\n",
              "//\n",
              "//      http://www.apache.org/licenses/LICENSE-2.0\n",
              "//\n",
              "// Unless required by applicable law or agreed to in writing, software\n",
              "// distributed under the License is distributed on an \"AS IS\" BASIS,\n",
              "// WITHOUT WARRANTIES OR CONDITIONS OF ANY KIND, either express or implied.\n",
              "// See the License for the specific language governing permissions and\n",
              "// limitations under the License.\n",
              "\n",
              "/**\n",
              " * @fileoverview Helpers for google.colab Python module.\n",
              " */\n",
              "(function(scope) {\n",
              "function span(text, styleAttributes = {}) {\n",
              "  const element = document.createElement('span');\n",
              "  element.textContent = text;\n",
              "  for (const key of Object.keys(styleAttributes)) {\n",
              "    element.style[key] = styleAttributes[key];\n",
              "  }\n",
              "  return element;\n",
              "}\n",
              "\n",
              "// Max number of bytes which will be uploaded at a time.\n",
              "const MAX_PAYLOAD_SIZE = 100 * 1024;\n",
              "\n",
              "function _uploadFiles(inputId, outputId) {\n",
              "  const steps = uploadFilesStep(inputId, outputId);\n",
              "  const outputElement = document.getElementById(outputId);\n",
              "  // Cache steps on the outputElement to make it available for the next call\n",
              "  // to uploadFilesContinue from Python.\n",
              "  outputElement.steps = steps;\n",
              "\n",
              "  return _uploadFilesContinue(outputId);\n",
              "}\n",
              "\n",
              "// This is roughly an async generator (not supported in the browser yet),\n",
              "// where there are multiple asynchronous steps and the Python side is going\n",
              "// to poll for completion of each step.\n",
              "// This uses a Promise to block the python side on completion of each step,\n",
              "// then passes the result of the previous step as the input to the next step.\n",
              "function _uploadFilesContinue(outputId) {\n",
              "  const outputElement = document.getElementById(outputId);\n",
              "  const steps = outputElement.steps;\n",
              "\n",
              "  const next = steps.next(outputElement.lastPromiseValue);\n",
              "  return Promise.resolve(next.value.promise).then((value) => {\n",
              "    // Cache the last promise value to make it available to the next\n",
              "    // step of the generator.\n",
              "    outputElement.lastPromiseValue = value;\n",
              "    return next.value.response;\n",
              "  });\n",
              "}\n",
              "\n",
              "/**\n",
              " * Generator function which is called between each async step of the upload\n",
              " * process.\n",
              " * @param {string} inputId Element ID of the input file picker element.\n",
              " * @param {string} outputId Element ID of the output display.\n",
              " * @return {!Iterable<!Object>} Iterable of next steps.\n",
              " */\n",
              "function* uploadFilesStep(inputId, outputId) {\n",
              "  const inputElement = document.getElementById(inputId);\n",
              "  inputElement.disabled = false;\n",
              "\n",
              "  const outputElement = document.getElementById(outputId);\n",
              "  outputElement.innerHTML = '';\n",
              "\n",
              "  const pickedPromise = new Promise((resolve) => {\n",
              "    inputElement.addEventListener('change', (e) => {\n",
              "      resolve(e.target.files);\n",
              "    });\n",
              "  });\n",
              "\n",
              "  const cancel = document.createElement('button');\n",
              "  inputElement.parentElement.appendChild(cancel);\n",
              "  cancel.textContent = 'Cancel upload';\n",
              "  const cancelPromise = new Promise((resolve) => {\n",
              "    cancel.onclick = () => {\n",
              "      resolve(null);\n",
              "    };\n",
              "  });\n",
              "\n",
              "  // Wait for the user to pick the files.\n",
              "  const files = yield {\n",
              "    promise: Promise.race([pickedPromise, cancelPromise]),\n",
              "    response: {\n",
              "      action: 'starting',\n",
              "    }\n",
              "  };\n",
              "\n",
              "  cancel.remove();\n",
              "\n",
              "  // Disable the input element since further picks are not allowed.\n",
              "  inputElement.disabled = true;\n",
              "\n",
              "  if (!files) {\n",
              "    return {\n",
              "      response: {\n",
              "        action: 'complete',\n",
              "      }\n",
              "    };\n",
              "  }\n",
              "\n",
              "  for (const file of files) {\n",
              "    const li = document.createElement('li');\n",
              "    li.append(span(file.name, {fontWeight: 'bold'}));\n",
              "    li.append(span(\n",
              "        `(${file.type || 'n/a'}) - ${file.size} bytes, ` +\n",
              "        `last modified: ${\n",
              "            file.lastModifiedDate ? file.lastModifiedDate.toLocaleDateString() :\n",
              "                                    'n/a'} - `));\n",
              "    const percent = span('0% done');\n",
              "    li.appendChild(percent);\n",
              "\n",
              "    outputElement.appendChild(li);\n",
              "\n",
              "    const fileDataPromise = new Promise((resolve) => {\n",
              "      const reader = new FileReader();\n",
              "      reader.onload = (e) => {\n",
              "        resolve(e.target.result);\n",
              "      };\n",
              "      reader.readAsArrayBuffer(file);\n",
              "    });\n",
              "    // Wait for the data to be ready.\n",
              "    let fileData = yield {\n",
              "      promise: fileDataPromise,\n",
              "      response: {\n",
              "        action: 'continue',\n",
              "      }\n",
              "    };\n",
              "\n",
              "    // Use a chunked sending to avoid message size limits. See b/62115660.\n",
              "    let position = 0;\n",
              "    do {\n",
              "      const length = Math.min(fileData.byteLength - position, MAX_PAYLOAD_SIZE);\n",
              "      const chunk = new Uint8Array(fileData, position, length);\n",
              "      position += length;\n",
              "\n",
              "      const base64 = btoa(String.fromCharCode.apply(null, chunk));\n",
              "      yield {\n",
              "        response: {\n",
              "          action: 'append',\n",
              "          file: file.name,\n",
              "          data: base64,\n",
              "        },\n",
              "      };\n",
              "\n",
              "      let percentDone = fileData.byteLength === 0 ?\n",
              "          100 :\n",
              "          Math.round((position / fileData.byteLength) * 100);\n",
              "      percent.textContent = `${percentDone}% done`;\n",
              "\n",
              "    } while (position < fileData.byteLength);\n",
              "  }\n",
              "\n",
              "  // All done.\n",
              "  yield {\n",
              "    response: {\n",
              "      action: 'complete',\n",
              "    }\n",
              "  };\n",
              "}\n",
              "\n",
              "scope.google = scope.google || {};\n",
              "scope.google.colab = scope.google.colab || {};\n",
              "scope.google.colab._files = {\n",
              "  _uploadFiles,\n",
              "  _uploadFilesContinue,\n",
              "};\n",
              "})(self);\n",
              "</script> "
            ]
          },
          "metadata": {}
        },
        {
          "output_type": "stream",
          "name": "stdout",
          "text": [
            "Saving stations_intersection.csv to stations_intersection.csv\n"
          ]
        }
      ]
    },
    {
      "cell_type": "markdown",
      "metadata": {
        "id": "Iy65YJTH99iT"
      },
      "source": [
        "# Упражнения\n",
        "Упражнения взяты из Rajaraman A., Ullman J. D. Mining of massive datasets. – Cambridge University Press, 2011.\n",
        "\n",
        "\n",
        "Для выполнения заданий переопределите функции RECORDREADER, MAP, REDUCE. Для модели распределённой системы может потребоваться переопределение функций PARTITION и COMBINER."
      ]
    },
    {
      "cell_type": "markdown",
      "metadata": {
        "id": "cfvAeZm3S8S8"
      },
      "source": [
        "### Максимальное значение ряда\n",
        "\n",
        "Разработайте MapReduce алгоритм, который находит максимальное число входного списка чисел."
      ]
    },
    {
      "cell_type": "code",
      "metadata": {
        "id": "3GRA1JR-Tkbg",
        "colab": {
          "base_uri": "https://localhost:8080/"
        },
        "outputId": "7733f288-d3c0-419c-a3b9-6bdd816829bc"
      },
      "source": [
        "import csv\n",
        "from typing import NamedTuple, Iterator, List\n",
        "from collections import defaultdict\n",
        "\n",
        "class KeyValue(NamedTuple):\n",
        "  key: str\n",
        "  val: float\n",
        "\n",
        "def RECORDREADER(file: str) -> Iterator[KeyValue]:\n",
        "  with open(file, mode='r') as file:\n",
        "    r = csv.reader(file)\n",
        "    next(r)\n",
        "    for row in r:\n",
        "      val = float(row[2]) # беру 3 столбец\n",
        "      yield KeyValue(key=None, val=val)\n",
        "\n",
        "def MAP(key: str, val: float) -> Iterator[KeyValue]:\n",
        "  yield KeyValue(key=None, val=val)\n",
        "\n",
        "def REDUCE(key: str, vals: Iterator[float]) -> Iterator[KeyValue]:\n",
        "  yield KeyValue(key=None, val=max(vals)) # находим макс. значение\n",
        "\n",
        "def MapReduce(RECORDREADER, MAP, REDUCE, file: str):\n",
        "  r_data = list(RECORDREADER(file)) # чтение из csv-файла\n",
        "\n",
        "  map_data = [] # MAP для каждого элемента\n",
        "  for kv in r_data:\n",
        "    map_data.extend(MAP(kv.key, kv.val))\n",
        "\n",
        "  group_data = {} # группировка данных по ключу (none)\n",
        "  for kv in map_data:\n",
        "    group_data[kv.key] = group_data.get(kv.key, []) + [kv.val]\n",
        "\n",
        "  reduce_data = [] # REDUCE для сгрупированных данных\n",
        "  for key, vals in group_data.items():\n",
        "    reduce_data.extend(REDUCE(key, iter(vals)))\n",
        "\n",
        "  return reduce_data\n",
        "\n",
        "\n",
        "res = MapReduce(RECORDREADER, MAP, REDUCE, 'stations.csv') # запуск MapReduce для обработки\n",
        "print(f\"Max value lat: {res[0].val}\")"
      ],
      "execution_count": null,
      "outputs": [
        {
          "output_type": "stream",
          "name": "stdout",
          "text": [
            "Max value lat: 37.80477\n"
          ]
        }
      ]
    },
    {
      "cell_type": "markdown",
      "metadata": {
        "id": "k86bXnqZTk-U"
      },
      "source": [
        "### Арифметическое среднее\n",
        "\n",
        "Разработайте MapReduce алгоритм, который находит арифметическое среднее.\n",
        "\n",
        "$$\\overline{X} = \\frac{1}{n}\\sum_{i=0}^{n} x_i$$\n"
      ]
    },
    {
      "cell_type": "code",
      "metadata": {
        "id": "MPoY5pkfUNZf",
        "colab": {
          "base_uri": "https://localhost:8080/"
        },
        "outputId": "d8a5e9cc-0808-4e4f-9ac2-5707e9c04a7f"
      },
      "source": [
        "def MAP(key: str, val: float) -> Iterator[KeyValue]:\n",
        "  yield KeyValue(key=None, val=val)\n",
        "\n",
        "def REDUCE(key: str, vals: Iterator[float]) -> Iterator[KeyValue]:\n",
        "  total_sum = 0\n",
        "  count = 0\n",
        "  for val in vals: # подсчет суммы и кол-ва элементов\n",
        "    total_sum += val\n",
        "    count += 1\n",
        "  if count > 0: # нахождение среднего значения\n",
        "    mean = total_sum / count\n",
        "    yield KeyValue(key=None, val=mean)\n",
        "  else:\n",
        "    yield KeyValue(key=None, val=0)\n",
        "\n",
        "\n",
        "res = MapReduce(RECORDREADER, MAP, REDUCE, 'stations.csv')\n",
        "print(f\"Arithmetic mean lat: {res[0].val}\")"
      ],
      "execution_count": null,
      "outputs": [
        {
          "output_type": "stream",
          "name": "stdout",
          "text": [
            "Arithmetic mean lat: 37.59024338428572\n"
          ]
        }
      ]
    },
    {
      "cell_type": "markdown",
      "metadata": {
        "id": "xanzszhsIlLe"
      },
      "source": [
        "### GroupByKey на основе сортировки\n",
        "\n",
        "Реализуйте groupByKey на основе сортировки, проверьте его работу на примерах"
      ]
    },
    {
      "cell_type": "code",
      "metadata": {
        "id": "hQPn3USsIkEC",
        "colab": {
          "base_uri": "https://localhost:8080/"
        },
        "outputId": "defadaf5-b525-4b8e-a3e6-28b7ea208f32"
      },
      "source": [
        "class KeyValue(NamedTuple):\n",
        "  key: int\n",
        "  val: str\n",
        "\n",
        "def RECORDREADER(file: str) -> Iterator[KeyValue]:\n",
        "  with open(file, mode='r') as file:\n",
        "    r = csv.reader(file)\n",
        "    next(r)\n",
        "    for row in r:\n",
        "      key = int(row[4])  # ключ - 5 столбец\n",
        "      val = row[5]  # значение - 6 столбец\n",
        "      yield KeyValue(key=key, val=val)\n",
        "\n",
        "def MAP(key: int, val: str) -> Iterator[KeyValue]:\n",
        "  yield KeyValue(key=key, val=val) # передача без изменений\n",
        "\n",
        "def groupbykey(sort_data: List[KeyValue]) -> List[KeyValue]:\n",
        "  group = []\n",
        "  curr_key = None\n",
        "  curr_vals = []\n",
        "\n",
        "  for kv in sort_data:\n",
        "    if kv.key == curr_key:\n",
        "      curr_vals.append(kv.val) # при совпадении ключа с предыдущ., значение добавляется в группу\n",
        "    else:\n",
        "      if curr_key is not None:\n",
        "        group.append(KeyValue(curr_key, curr_vals)) # при изменении ключа, предыдущ. группа сохраняется\n",
        "      curr_key = kv.key # новая группа для нового ключа\n",
        "      curr_vals = [kv.val]\n",
        "\n",
        "  if curr_key is not None: # добавление последней группы\n",
        "    group.append(KeyValue(curr_key, curr_vals))\n",
        "\n",
        "  return group\n",
        "\n",
        "def MapReduce(RECORDREADER, MAP, groupbykey, file: str):\n",
        "  r_data = list(RECORDREADER(file)) # чтение данных\n",
        "\n",
        "  map_data = [] # MAP для каждого элемента\n",
        "  for kv in r_data:\n",
        "    map_data.extend(MAP(kv.key, kv.val))\n",
        "\n",
        "  sort_data = sorted(map_data, key=lambda kv: kv.key) # сортировка данных по ключу\n",
        "  group_data = groupbykey(sort_data) # группировка значений по ключу\n",
        "\n",
        "  return group_data\n",
        "\n",
        "\n",
        "res = MapReduce(RECORDREADER, MAP, groupbykey, 'stations.csv')\n",
        "for group in res:\n",
        "  print(f\"Key: {group.key}, Values: {group.val}\")"
      ],
      "execution_count": null,
      "outputs": [
        {
          "output_type": "stream",
          "name": "stdout",
          "text": [
            "Key: 11, Values: ['San Jose', 'Mountain View', 'Palo Alto', 'Palo Alto']\n",
            "Key: 15, Values: ['San Jose', 'San Jose', 'San Jose', 'San Jose', 'San Jose', 'San Jose', 'San Jose', 'San Jose', 'Redwood City', 'Redwood City', 'Redwood City', 'Redwood City', 'Redwood City', 'Mountain View', 'Mountain View', 'Mountain View', 'Mountain View', 'Palo Alto', 'Palo Alto', 'San Francisco', 'San Francisco', 'San Francisco', 'San Francisco', 'San Francisco', 'San Francisco', 'San Francisco', 'San Francisco', 'San Francisco', 'San Francisco', 'San Francisco', 'San Jose', 'San Francisco', 'Redwood City', 'San Jose']\n",
            "Key: 19, Values: ['San Jose', 'San Jose', 'San Jose', 'San Jose', 'San Francisco', 'San Francisco', 'San Francisco', 'San Francisco', 'San Francisco', 'San Francisco', 'San Francisco', 'San Francisco', 'San Francisco', 'San Francisco', 'San Francisco', 'San Francisco', 'San Francisco', 'San Francisco']\n",
            "Key: 23, Values: ['Mountain View', 'Mountain View', 'Palo Alto', 'San Francisco', 'San Francisco', 'San Francisco', 'San Francisco', 'San Francisco', 'San Francisco']\n",
            "Key: 25, Values: ['Redwood City']\n",
            "Key: 27, Values: ['San Jose', 'San Francisco', 'San Francisco', 'San Francisco']\n"
          ]
        }
      ]
    },
    {
      "cell_type": "markdown",
      "metadata": {
        "id": "5SgEjCZyGnu6"
      },
      "source": [
        "### Drop duplicates (set construction, unique elements, distinct)\n",
        "\n",
        "Реализуйте распределённую операцию исключения дубликатов"
      ]
    },
    {
      "cell_type": "code",
      "metadata": {
        "id": "okjbyApjGhMt",
        "colab": {
          "base_uri": "https://localhost:8080/"
        },
        "outputId": "eaee66fc-9f05-4e2a-a3ed-0d561030cf34"
      },
      "source": [
        "class KeyValue(NamedTuple):\n",
        "  key: str\n",
        "  val: str\n",
        "\n",
        "def RECORDREADER(file: str) -> Iterator[KeyValue]:\n",
        "  with open(file, mode='r') as file:\n",
        "    r = csv.reader(file)\n",
        "    next(r)\n",
        "    for row in r:\n",
        "      yield KeyValue(key=None, val=row[5]) # беру 6 столбец\n",
        "\n",
        "def MAP(key: str, val: str) -> Iterator[KeyValue]:\n",
        "  yield KeyValue(key=None, val=val) # данные без изменений\n",
        "\n",
        "def REDUCE(key: str, vals: Iterator[str]) -> Iterator[KeyValue]:\n",
        "  unique_vals = set(vals)  # исключаем дубликаты\n",
        "  for val in unique_vals: # оставляем только уникальные значения\n",
        "    yield KeyValue(key=None, val=val)\n",
        "\n",
        "def MapReduce(RECORDREADER, MAP, REDUCE, file: str):\n",
        "  r_data = list(RECORDREADER(file))\n",
        "\n",
        "  map_data = []\n",
        "  for kv in r_data:\n",
        "    map_data.extend(MAP(kv.key, kv.val))\n",
        "\n",
        "  group_data = {} # группировка данных по ключу (none)\n",
        "  for kv in map_data:\n",
        "    group_data[kv.key] = group_data.get(kv.key, []) + [kv.val]\n",
        "\n",
        "  reduce_data = [] # применение REDUCE\n",
        "  for key, vals in group_data.items():\n",
        "    reduce_data.extend(REDUCE(key, iter(vals)))\n",
        "\n",
        "  return reduce_data\n",
        "\n",
        "\n",
        "res = MapReduce(RECORDREADER, MAP, REDUCE, 'stations.csv')\n",
        "for kv in res:\n",
        "  print(f\"Unique Value: {kv.val}\")"
      ],
      "execution_count": null,
      "outputs": [
        {
          "output_type": "stream",
          "name": "stdout",
          "text": [
            "Unique Value: Mountain View\n",
            "Unique Value: San Jose\n",
            "Unique Value: Redwood City\n",
            "Unique Value: Palo Alto\n",
            "Unique Value: San Francisco\n"
          ]
        }
      ]
    },
    {
      "cell_type": "markdown",
      "metadata": {
        "id": "e7sRGoTXuJze"
      },
      "source": [
        "#Операторы реляционной алгебры\n",
        "### Selection (Выборка)\n",
        "\n",
        "**The Map Function**: Для  каждого кортежа $t \\in R$ вычисляется истинность предиката $C$. В случае истины создаётся пара ключ-значение $(t, t)$. В паре ключ и значение одинаковы, равны $t$.\n",
        "\n",
        "**The Reduce Function:** Роль функции Reduce выполняет функция идентичности, которая возвращает то же значение, что получила на вход.\n",
        "\n"
      ]
    },
    {
      "cell_type": "code",
      "metadata": {
        "id": "4nKIKe59uIfc",
        "colab": {
          "base_uri": "https://localhost:8080/"
        },
        "outputId": "8e534fe6-7d30-4f27-90e1-185c0c57e071"
      },
      "source": [
        "class KeyValue(NamedTuple):\n",
        "  key: str\n",
        "  val: str\n",
        "\n",
        "def RECORDREADER(file: str) -> Iterator[KeyValue]:\n",
        "  with open(file, mode='r') as file:\n",
        "    r = csv.reader(file)\n",
        "    next(r)\n",
        "    for row in r:\n",
        "      yield KeyValue(key=None, val=row[0]) # беру 1 столбец\n",
        "\n",
        "def MAP(key: str, val: str, predicate) -> Iterator[KeyValue]:\n",
        "  if predicate(val): # проверка на выполнение условий\n",
        "    yield KeyValue(key=val, val=val) # пара (t, t)\n",
        "\n",
        "def REDUCE(key: str, vals: Iterator[str]) -> Iterator[KeyValue]:\n",
        "  for val in vals: # вернем отфильтрованные значения\n",
        "    yield KeyValue(key=val, val=val)\n",
        "\n",
        "def predicate(val: str) -> bool:\n",
        "  try:\n",
        "    return float(val) > 65 # проверка значения на > 65\n",
        "  except ValueError:\n",
        "    return False\n",
        "\n",
        "def MapReduce(RECORDREADER, MAP, REDUCE, file: str, predicate):\n",
        "  r_data = list(RECORDREADER(file))\n",
        "\n",
        "  map_data = []\n",
        "  for kv in r_data:\n",
        "    map_data.extend(MAP(kv.key, kv.val, predicate))\n",
        "\n",
        "  group_data = {}\n",
        "  for kv in map_data:\n",
        "    group_data[kv.key] = group_data.get(kv.key, []) + [kv.val]\n",
        "\n",
        "  reduce_data = []\n",
        "  for key, vals in group_data.items():\n",
        "    reduce_data.extend(REDUCE(key, iter(vals)))\n",
        "\n",
        "  return reduce_data\n",
        "\n",
        "\n",
        "res = MapReduce(RECORDREADER, MAP, REDUCE, 'stations.csv', predicate)\n",
        "for kv in res:\n",
        "  print(f\"Selection: {kv.val}\")"
      ],
      "execution_count": null,
      "outputs": [
        {
          "output_type": "stream",
          "name": "stdout",
          "text": [
            "Selection: 66\n",
            "Selection: 67\n",
            "Selection: 68\n",
            "Selection: 69\n",
            "Selection: 70\n",
            "Selection: 71\n",
            "Selection: 72\n",
            "Selection: 73\n",
            "Selection: 74\n",
            "Selection: 75\n",
            "Selection: 76\n",
            "Selection: 77\n",
            "Selection: 80\n",
            "Selection: 82\n",
            "Selection: 83\n",
            "Selection: 84\n"
          ]
        }
      ]
    },
    {
      "cell_type": "markdown",
      "metadata": {
        "id": "w27Ca-_Ku85V"
      },
      "source": [
        "### Projection (Проекция)\n",
        "\n",
        "Проекция на множество атрибутов $S$.\n",
        "\n",
        "**The Map Function:** Для каждого кортежа $t \\in R$ создайте кортеж $t′$, исключая  из $t$ те значения, атрибуты которых не принадлежат  $S$. Верните пару $(t′, t′)$.\n",
        "\n",
        "**The Reduce Function:** Для каждого ключа $t′$, созданного любой Map задачей, вы получаете одну или несколько пар $(t′, t′)$. Reduce функция преобразует $(t′, [t′, t′, . . . , t′])$ в $(t′, t′)$, так, что для ключа $t′$ возвращается одна пара  $(t′, t′)$."
      ]
    },
    {
      "cell_type": "code",
      "metadata": {
        "id": "BEvuY4GqvhS6",
        "colab": {
          "base_uri": "https://localhost:8080/"
        },
        "outputId": "fed196a7-d230-4243-c31e-71491ec2e656"
      },
      "source": [
        "class KeyValue(NamedTuple):\n",
        "  key: str\n",
        "  val: str\n",
        "\n",
        "def RECORDREADER(file: str) -> Iterator[KeyValue]:\n",
        "  with open(file, mode='r') as file:\n",
        "    r = csv.reader(file)\n",
        "    next(r)\n",
        "    for row in r:\n",
        "      yield KeyValue(key=None, val=row) # в этот раз берем весь ряд как значение\n",
        "\n",
        "def MAP(key: str, val: List[str], attrib: List[int]) -> Iterator[KeyValue]:\n",
        "  temp_tuple = tuple(val[i] for i in attrib) # проекция на множество атрибутов S\n",
        "  yield KeyValue(key=str(temp_tuple), val=str(temp_tuple))  # пара (t', t')\n",
        "\n",
        "def REDUCE(key: str, vals: Iterator[str]) -> Iterator[KeyValue]:\n",
        "  for val in vals: # только уникальные проекции\n",
        "    yield KeyValue(key=val, val=val)\n",
        "\n",
        "def MapReduce(RECORDREADER, MAP, REDUCE, file: str, attrib: List[int]):\n",
        "  r_data = list(RECORDREADER(file))\n",
        "\n",
        "  map_data = []\n",
        "  for kv in r_data:\n",
        "    map_data.extend(MAP(kv.key, kv.val, attrib))\n",
        "\n",
        "  group_data = {}\n",
        "  for kv in map_data:\n",
        "    group_data[kv.key] = group_data.get(kv.key, []) + [kv.val]\n",
        "\n",
        "  reduce_data = []\n",
        "  for key, vals in group_data.items():\n",
        "    reduce_data.extend(REDUCE(key, iter(vals)))\n",
        "\n",
        "  return reduce_data\n",
        "\n",
        "\n",
        "attrib = [0, 5] # мн-во атрибутов для проекции\n",
        "res = MapReduce(RECORDREADER, MAP, REDUCE, 'stations.csv', attrib)\n",
        "for kv in res:\n",
        "  print(f\"Projection: {kv.val}\")"
      ],
      "execution_count": null,
      "outputs": [
        {
          "output_type": "stream",
          "name": "stdout",
          "text": [
            "Projection: ('2', 'San Jose')\n",
            "Projection: ('3', 'San Jose')\n",
            "Projection: ('4', 'San Jose')\n",
            "Projection: ('5', 'San Jose')\n",
            "Projection: ('6', 'San Jose')\n",
            "Projection: ('7', 'San Jose')\n",
            "Projection: ('8', 'San Jose')\n",
            "Projection: ('9', 'San Jose')\n",
            "Projection: ('10', 'San Jose')\n",
            "Projection: ('11', 'San Jose')\n",
            "Projection: ('12', 'San Jose')\n",
            "Projection: ('13', 'San Jose')\n",
            "Projection: ('14', 'San Jose')\n",
            "Projection: ('16', 'San Jose')\n",
            "Projection: ('21', 'Redwood City')\n",
            "Projection: ('22', 'Redwood City')\n",
            "Projection: ('23', 'Redwood City')\n",
            "Projection: ('24', 'Redwood City')\n",
            "Projection: ('25', 'Redwood City')\n",
            "Projection: ('26', 'Redwood City')\n",
            "Projection: ('27', 'Mountain View')\n",
            "Projection: ('28', 'Mountain View')\n",
            "Projection: ('29', 'Mountain View')\n",
            "Projection: ('30', 'Mountain View')\n",
            "Projection: ('31', 'Mountain View')\n",
            "Projection: ('32', 'Mountain View')\n",
            "Projection: ('33', 'Mountain View')\n",
            "Projection: ('34', 'Palo Alto')\n",
            "Projection: ('35', 'Palo Alto')\n",
            "Projection: ('36', 'Palo Alto')\n",
            "Projection: ('37', 'Palo Alto')\n",
            "Projection: ('38', 'Palo Alto')\n",
            "Projection: ('41', 'San Francisco')\n",
            "Projection: ('42', 'San Francisco')\n",
            "Projection: ('45', 'San Francisco')\n",
            "Projection: ('46', 'San Francisco')\n",
            "Projection: ('47', 'San Francisco')\n",
            "Projection: ('48', 'San Francisco')\n",
            "Projection: ('49', 'San Francisco')\n",
            "Projection: ('50', 'San Francisco')\n",
            "Projection: ('51', 'San Francisco')\n",
            "Projection: ('39', 'San Francisco')\n",
            "Projection: ('54', 'San Francisco')\n",
            "Projection: ('55', 'San Francisco')\n",
            "Projection: ('56', 'San Francisco')\n",
            "Projection: ('57', 'San Francisco')\n",
            "Projection: ('58', 'San Francisco')\n",
            "Projection: ('59', 'San Francisco')\n",
            "Projection: ('60', 'San Francisco')\n",
            "Projection: ('61', 'San Francisco')\n",
            "Projection: ('62', 'San Francisco')\n",
            "Projection: ('63', 'San Francisco')\n",
            "Projection: ('64', 'San Francisco')\n",
            "Projection: ('65', 'San Francisco')\n",
            "Projection: ('66', 'San Francisco')\n",
            "Projection: ('67', 'San Francisco')\n",
            "Projection: ('68', 'San Francisco')\n",
            "Projection: ('69', 'San Francisco')\n",
            "Projection: ('70', 'San Francisco')\n",
            "Projection: ('71', 'San Francisco')\n",
            "Projection: ('72', 'San Francisco')\n",
            "Projection: ('73', 'San Francisco')\n",
            "Projection: ('74', 'San Francisco')\n",
            "Projection: ('75', 'San Francisco')\n",
            "Projection: ('76', 'San Francisco')\n",
            "Projection: ('77', 'San Francisco')\n",
            "Projection: ('80', 'San Jose')\n",
            "Projection: ('82', 'San Francisco')\n",
            "Projection: ('83', 'Redwood City')\n",
            "Projection: ('84', 'San Jose')\n"
          ]
        }
      ]
    },
    {
      "cell_type": "markdown",
      "metadata": {
        "id": "7gau6lKXvn2R"
      },
      "source": [
        "### Union (Объединение)\n",
        "\n",
        "**The Map Function:** Превратите каждый входной кортеж $t$ в пару ключ-значение $(t, t)$.\n",
        "\n",
        "**The Reduce Function:** С каждым ключом $t$ будет ассоциировано одно или два значений. В обоих случаях создайте $(t, t)$ в качестве выходного значения."
      ]
    },
    {
      "cell_type": "code",
      "metadata": {
        "id": "Sns7a5agv3nw",
        "colab": {
          "base_uri": "https://localhost:8080/"
        },
        "outputId": "38ddea59-b92c-4cd4-b041-9e7c3cd97076"
      },
      "source": [
        "class KeyValue(NamedTuple):\n",
        "  key: str\n",
        "  val: str\n",
        "\n",
        "def RECORDREADER(file: str) -> Iterator[KeyValue]:\n",
        "  with open(file, mode='r') as file:\n",
        "    r = csv.reader(file)\n",
        "    next(r)\n",
        "    for row in r:\n",
        "      yield KeyValue(key=None, val=row) # снова же берем ряд\n",
        "\n",
        "def MAP(key: str, val: List[str]) -> Iterator[KeyValue]:\n",
        "  yield KeyValue(key=str(val), val=str(val)) # создание пары (t, t)\n",
        "\n",
        "def REDUCE(key: str, vals: Iterator[str]) -> Iterator[KeyValue]:\n",
        "  for val in vals: # объединенная запись (создание одной пары)\n",
        "    yield KeyValue(key=val, val=val)\n",
        "\n",
        "def MapReduce(RECORDREADER, MAP, REDUCE, files: List[str]):\n",
        "  r_data = [] # берем данные из всех файлов\n",
        "  for file in files:\n",
        "    r_data.extend(list(RECORDREADER(file)))\n",
        "\n",
        "  map_data = []\n",
        "  for kv in r_data:\n",
        "    map_data.extend(MAP(kv.key, kv.val))\n",
        "\n",
        "  reduce_data = []\n",
        "  reduce_data.extend(REDUCE(None, iter([kv.val for kv in map_data])))\n",
        "\n",
        "  return reduce_data\n",
        "\n",
        "\n",
        "res = MapReduce(RECORDREADER, MAP, REDUCE, ['stations.csv', 'stations2.csv'])\n",
        "for kv in res:\n",
        "  print(f\"Union: {kv.val}\")"
      ],
      "execution_count": null,
      "outputs": [
        {
          "output_type": "stream",
          "name": "stdout",
          "text": [
            "Union: ['2', 'San Jose Diridon Caltrain Station', '37.329732', '-121.90178200000001', '27', 'San Jose', '8/6/2013']\n",
            "Union: ['3', 'San Jose Civic Center', '37.330698', '-121.888979', '15', 'San Jose', '8/5/2013']\n",
            "Union: ['4', 'Santa Clara at Almaden', '37.333988', '-121.894902', '11', 'San Jose', '8/6/2013']\n",
            "Union: ['5', 'Adobe on Almaden', '37.331415', '-121.8932', '19', 'San Jose', '8/5/2013']\n",
            "Union: ['6', 'San Pedro Square', '37.336721000000004', '-121.894074', '15', 'San Jose', '8/7/2013']\n",
            "Union: ['7', 'Paseo de San Antonio', '37.333798', '-121.88694299999999', '15', 'San Jose', '8/7/2013']\n",
            "Union: ['8', 'San Salvador at 1st', '37.330165', '-121.88583100000001', '15', 'San Jose', '8/5/2013']\n",
            "Union: ['9', 'Japantown', '37.348742', '-121.89471499999999', '15', 'San Jose', '8/5/2013']\n",
            "Union: ['10', 'San Jose City Hall', '37.337391', '-121.886995', '15', 'San Jose', '8/6/2013']\n",
            "Union: ['11', 'MLK Library', '37.335885', '-121.88566000000002', '19', 'San Jose', '8/6/2013']\n",
            "Union: ['12', 'SJSU 4th at San Carlos', '37.332808', '-121.88389099999999', '19', 'San Jose', '8/7/2013']\n",
            "Union: ['13', 'St James Park', '37.339301', '-121.88993700000002', '15', 'San Jose', '8/6/2013']\n",
            "Union: ['14', 'Arena Green / SAP Center', '37.332692', '-121.900084', '19', 'San Jose', '8/5/2013']\n",
            "Union: ['16', 'SJSU - San Salvador at 9th', '37.333954999999996', '-121.877349', '15', 'San Jose', '8/7/2013']\n",
            "Union: ['21', 'Franklin at Maple', '37.481758', '-122.226904', '15', 'Redwood City', '8/12/2013']\n",
            "Union: ['22', 'Redwood City Caltrain Station', '37.486078000000006', '-122.23208899999999', '25', 'Redwood City', '8/15/2013']\n",
            "Union: ['23', 'San Mateo County Center', '37.487615999999996', '-122.229951', '15', 'Redwood City', '8/15/2013']\n",
            "Union: ['24', 'Redwood City Public Library', '37.484219', '-122.227424', '15', 'Redwood City', '8/12/2013']\n",
            "Union: ['25', 'Stanford in Redwood City', '37.48537', '-122.20328799999999', '15', 'Redwood City', '8/12/2013']\n",
            "Union: ['26', 'Redwood City Medical Center', '37.487682', '-122.223492', '15', 'Redwood City', '8/12/2013']\n",
            "Union: ['27', 'Mountain View City Hall', '37.389218', '-122.081896', '15', 'Mountain View', '8/16/2013']\n",
            "Union: ['28', 'Mountain View Caltrain Station', '37.394358000000004', '-122.07671299999998', '23', 'Mountain View', '8/15/2013']\n",
            "Union: ['29', 'San Antonio Caltrain Station', '37.406940000000006', '-122.10675800000001', '23', 'Mountain View', '8/15/2013']\n",
            "Union: ['30', 'Evelyn Park and Ride', '37.390277000000005', '-122.066553', '15', 'Mountain View', '8/16/2013']\n",
            "Union: ['31', 'San Antonio Shopping Center', '37.400443', '-122.10833799999999', '15', 'Mountain View', '12/31/2013']\n",
            "Union: ['32', 'Castro Street and El Camino Real', '37.385956', '-122.083678', '11', 'Mountain View', '12/31/2013']\n",
            "Union: ['33', 'Rengstorff Avenue / California Street', '37.400240999999994', '-122.099076', '15', 'Mountain View', '8/16/2013']\n",
            "Union: ['34', 'Palo Alto Caltrain Station', '37.443988', '-122.164759', '23', 'Palo Alto', '8/14/2013']\n",
            "Union: ['35', 'University and Emerson', '37.444521', '-122.16309299999999', '11', 'Palo Alto', '8/15/2013']\n",
            "Union: ['36', 'California Ave Caltrain Station', '37.429082', '-122.14280500000001', '15', 'Palo Alto', '8/14/2013']\n",
            "Union: ['37', 'Cowper at University', '37.448598', '-122.159504', '11', 'Palo Alto', '8/14/2013']\n",
            "Union: ['38', 'Park at Olive', '37.425683899999996', '-122.13777749999998', '15', 'Palo Alto', '8/14/2013']\n",
            "Union: ['41', 'Clay at Battery', '37.795001', '-122.39997', '15', 'San Francisco', '8/19/2013']\n",
            "Union: ['42', 'Davis at Jackson', '37.79728', '-122.398436', '15', 'San Francisco', '8/19/2013']\n",
            "Union: ['45', 'Commercial at Montgomery', '37.794230999999996', '-122.402923', '15', 'San Francisco', '8/19/2013']\n",
            "Union: ['46', 'Washington at Kearney', '37.795425', '-122.40476699999999', '15', 'San Francisco', '8/19/2013']\n",
            "Union: ['47', 'Post at Kearney', '37.788975', '-122.403452', '19', 'San Francisco', '8/19/2013']\n",
            "Union: ['48', 'Embarcadero at Vallejo', '37.799953', '-122.398525', '15', 'San Francisco', '8/19/2013']\n",
            "Union: ['49', 'Spear at Folsom', '37.790302000000004', '-122.39063700000001', '19', 'San Francisco', '8/20/2013']\n",
            "Union: ['50', 'Harry Bridges Plaza (Ferry Building)', '37.795392', '-122.394203', '23', 'San Francisco', '8/20/2013']\n",
            "Union: ['51', 'Embarcadero at Folsom', '37.791464000000005', '-122.391034', '19', 'San Francisco', '8/20/2013']\n",
            "Union: ['39', 'Powell Street BART', '37.783871000000005', '-122.408433', '19', 'San Francisco', '8/25/2013']\n",
            "Union: ['54', 'Embarcadero at Bryant', '37.787152', '-122.38801299999999', '15', 'San Francisco', '8/20/2013']\n",
            "Union: ['55', 'Temporary Transbay Terminal (Howard at Beale)', '37.789756', '-122.39464299999999', '23', 'San Francisco', '8/20/2013']\n",
            "Union: ['56', 'Beale at Market', '37.792251', '-122.39708600000002', '19', 'San Francisco', '8/20/2013']\n",
            "Union: ['57', '5th at Howard', '37.781752000000004', '-122.40512700000001', '15', 'San Francisco', '8/21/2013']\n",
            "Union: ['58', 'San Francisco City Hall', '37.77865', '-122.41823500000001', '19', 'San Francisco', '8/21/2013']\n",
            "Union: ['59', 'Golden Gate at Polk', '37.781332', '-122.418603', '23', 'San Francisco', '8/21/2013']\n",
            "Union: ['60', 'Embarcadero at Sansome', '37.80477', '-122.40323400000001', '15', 'San Francisco', '8/21/2013']\n",
            "Union: ['61', '2nd at Townsend', '37.780526', '-122.39028799999998', '27', 'San Francisco', '8/22/2013']\n",
            "Union: ['62', '2nd at Folsom', '37.785299', '-122.39623600000002', '19', 'San Francisco', '8/22/2013']\n",
            "Union: ['63', 'Howard at 2nd', '37.786978000000005', '-122.39810800000001', '19', 'San Francisco', '8/22/2013']\n",
            "Union: ['64', '2nd at South Park', '37.782259', '-122.392738', '15', 'San Francisco', '8/22/2013']\n",
            "Union: ['65', 'Townsend at 7th', '37.771058000000004', '-122.402717', '15', 'San Francisco', '8/22/2013']\n",
            "Union: ['66', 'South Van Ness at Market', '37.774814', '-122.418954', '19', 'San Francisco', '8/23/2013']\n",
            "Union: ['67', 'Market at 10th', '37.776619000000004', '-122.41738500000001', '27', 'San Francisco', '8/23/2013']\n",
            "Union: ['68', 'Yerba Buena Center of the Arts (3rd @ Howard)', '37.784878000000006', '-122.40101399999999', '19', 'San Francisco', '8/23/2013']\n",
            "Union: ['69', 'San Francisco Caltrain 2 (330 Townsend)', '37.7766', '-122.39546999999999', '23', 'San Francisco', '8/23/2013']\n",
            "Union: ['70', 'San Francisco Caltrain (Townsend at 4th)', '37.776617', '-122.39526000000001', '19', 'San Francisco', '8/23/2013']\n",
            "Union: ['71', 'Powell at Post (Union Square)', '37.788446', '-122.408499', '19', 'San Francisco', '8/23/2013']\n",
            "Union: ['72', 'Civic Center BART (7th at Market)', '37.781039', '-122.411748', '23', 'San Francisco', '8/23/2013']\n",
            "Union: ['73', 'Grant Avenue at Columbus Avenue', '37.798522', '-122.40724499999999', '15', 'San Francisco', '8/21/2013']\n",
            "Union: ['74', 'Steuart at Market', '37.794139', '-122.394434', '23', 'San Francisco', '8/25/2013']\n",
            "Union: ['75', 'Mechanics Plaza (Market at Battery)', '37.7913', '-122.399051', '19', 'San Francisco', '8/25/2013']\n",
            "Union: ['76', 'Market at 4th', '37.786305', '-122.40496599999999', '19', 'San Francisco', '8/25/2013']\n",
            "Union: ['77', 'Market at Sansome', '37.789625', '-122.400811', '27', 'San Francisco', '8/25/2013']\n",
            "Union: ['80', 'Santa Clara County Civic Center', '37.352601', '-121.90573300000001', '15', 'San Jose', '12/31/2013']\n",
            "Union: ['82', 'Broadway St at Battery St', '37.798541', '-122.40086200000002', '15', 'San Francisco', '1/22/2014']\n",
            "Union: ['83', 'Mezes Park', '37.491269', '-122.23623400000001', '15', 'Redwood City', '2/20/2014']\n",
            "Union: ['84', 'Ryland Park', '37.342725', '-121.89561699999999', '15', 'San Jose', '4/9/2014']\n",
            "Union: ['85', 'San Jose Diridon Caltrain Station', '37.329732', '-121.90178200000001', '27', 'San Jose', '8/6/2013']\n",
            "Union: ['86', 'San Jose Civic Center', '37.330698', '-121.888979', '15', 'San Jose', '8/5/2013']\n",
            "Union: ['87', 'Santa Clara at Almaden', '37.333988', '-121.894902', '11', 'San Jose', '8/6/2013']\n",
            "Union: ['88', 'Adobe on Almaden', '37.331415', '-121.8932', '19', 'San Jose', '8/5/2013']\n",
            "Union: ['89', 'San Pedro Square', '37.336721000000004', '-121.894074', '15', 'San Jose', '8/7/2013']\n"
          ]
        }
      ]
    },
    {
      "cell_type": "markdown",
      "metadata": {
        "id": "dQ8TuEbjv4J8"
      },
      "source": [
        "### Intersection (Пересечение)\n",
        "\n",
        "**The Map Function:** Превратите каждый кортеж $t$ в пары ключ-значение $(t, t)$.\n",
        "\n",
        "**The Reduce Function:** Если для ключа $t$ есть список из двух элементов $[t, t]$ $-$ создайте пару $(t, t)$. Иначе, ничего не создавайте."
      ]
    },
    {
      "cell_type": "code",
      "metadata": {
        "id": "XKlBZh4IwERR",
        "colab": {
          "base_uri": "https://localhost:8080/"
        },
        "outputId": "b0d96c05-6298-408a-cbb5-d29b39b46855"
      },
      "source": [
        "class KeyValue(NamedTuple):\n",
        "  key: str\n",
        "  val: str\n",
        "\n",
        "def MAP(val: List[str]) -> Iterator[KeyValue]:\n",
        "  yield KeyValue(key=str(val), val=str(val)) # пара (t, t)\n",
        "\n",
        "def REDUCE(vals: Iterator[str]) -> Iterator[KeyValue]:\n",
        "  val_list = list(vals) # все значения в список\n",
        "  if len(val_list) == 2 and val_list[0] == val_list[1]: # если два ключа это два одинак. элемента\n",
        "    yield KeyValue(key=val_list[0], val=val_list[1]) # создаем пару (t, t)\n",
        "\n",
        "def MapReduce(data_A: List[List[str]], data_B: List[List[str]], MAP, REDUCE):\n",
        "  map_data_A = [kv for val in data_A for kv in MAP(val)] # MAP для обоих списков\n",
        "  map_data_B = [kv for val in data_B for kv in MAP(val)]\n",
        "  total_map_data = map_data_A + map_data_B # объединение данных\n",
        "\n",
        "  group_data = defaultdict(list) # группировка всех элементов по ключу\n",
        "  for kv in total_map_data:\n",
        "    group_data[kv.key].append(kv.val)\n",
        "\n",
        "  reduce_data = []\n",
        "  for key, vals in group_data.items():\n",
        "    reduce_data.extend(REDUCE(iter(vals)))\n",
        "\n",
        "  return reduce_data\n",
        "\n",
        "\n",
        "data_A = [('Albina', '6405', 'A'), ('Petr', '6402', 'P'), ('Maria', '6401', 'M')]\n",
        "data_B = [('Albina', '6405', 'A'), ('Roman', '6405', 'R')]\n",
        "\n",
        "res = MapReduce(data_A, data_B, MAP, REDUCE)\n",
        "for kv in res:\n",
        "  print(f\"Intersection: {kv.val}\")"
      ],
      "execution_count": null,
      "outputs": [
        {
          "output_type": "stream",
          "name": "stdout",
          "text": [
            "Intersection: ('Albina', '6405', 'A')\n"
          ]
        }
      ]
    },
    {
      "cell_type": "markdown",
      "metadata": {
        "id": "AVOpqoY3wE5k"
      },
      "source": [
        "### Difference (Разница)\n",
        "\n",
        "**The Map Function:** Для кортежа $t \\in R$, создайте пару $(t, R)$, и для кортежа $t \\in S$, создайте пару $(t, S)$. Задумка заключается в том, чтобы значение пары было именем отношения $R$ or $S$, которому принадлежит кортеж (а лучше, единичный бит, по которому можно два отношения различить $R$ or $S$), а не весь набор атрибутов отношения.\n",
        "\n",
        "**The Reduce Function:** Для каждого ключа $t$, если соответствующее значение является списком $[R]$, создайте пару $(t, t)$. В иных случаях не предпринимайте действий."
      ]
    },
    {
      "cell_type": "code",
      "metadata": {
        "id": "QE_AC09lwZIZ",
        "colab": {
          "base_uri": "https://localhost:8080/"
        },
        "outputId": "9e7d3fe0-70b8-44b0-c603-32609dfa419f"
      },
      "source": [
        "class KeyValue(NamedTuple):\n",
        "  key: tuple\n",
        "  val: str\n",
        "\n",
        "def MAP(val: List[str], relation: str) -> Iterator[KeyValue]:\n",
        "  yield KeyValue(key=tuple(val), val=relation) # сопоставление знач. с его отношением R, S\n",
        "\n",
        "def REDUCE(vals: Iterator[str], key: tuple) -> Iterator[KeyValue]:\n",
        "  val_list = list(vals)\n",
        "  if val_list == ['R']: # если элемент только в R\n",
        "    yield KeyValue(key=key, val=key) # пара (t, t)\n",
        "\n",
        "def MapReduce(data_R: List[List[str]], data_S: List[List[str]], MAP, REDUCE):\n",
        "  map_data_R = [kv for val in data_R for kv in MAP(val, 'R')]\n",
        "  map_data_S = [kv for val in data_S for kv in MAP(val, 'S')]\n",
        "  total_map_data = map_data_R + map_data_S\n",
        "\n",
        "  group_data = defaultdict(list)\n",
        "  for kv in total_map_data:\n",
        "    group_data[kv.key].append(kv.val)\n",
        "\n",
        "  reduce_data = []\n",
        "  for key, vals in group_data.items():\n",
        "    reduce_data.extend(REDUCE(iter(vals), key))\n",
        "\n",
        "  return reduce_data\n",
        "\n",
        "\n",
        "data_R = [('Total', '120', 'A'), ('Sum', '240', 'B'), ('Max', '43', 'C')] # мн-ва R, S\n",
        "data_S = [('Max', '43', 'C'), ('Diff', '48', 'A')]\n",
        "\n",
        "res = MapReduce(data_R, data_S, MAP, REDUCE)\n",
        "for kv in res:\n",
        "  print(f\"Difference: {kv.val}\")"
      ],
      "execution_count": null,
      "outputs": [
        {
          "output_type": "stream",
          "name": "stdout",
          "text": [
            "Difference: ('Total', '120', 'A')\n",
            "Difference: ('Sum', '240', 'B')\n"
          ]
        }
      ]
    },
    {
      "cell_type": "markdown",
      "metadata": {
        "id": "j8I58V2VwhSm"
      },
      "source": [
        "### Natural Join\n",
        "\n",
        "**The Map Function:** Для каждого кортежа $(a, b)$ отношения $R$, создайте пару $(b,(R, a))$. Для каждого кортежа $(b, c)$ отношения $S$, создайте пару $(b,(S, c))$.\n",
        "\n",
        "**The Reduce Function:** Каждый ключ $b$ будет асоциирован со списком пар, которые принимают форму либо $(R, a)$, либо $(S, c)$. Создайте все пары, одни, состоящие из  первого компонента $R$, а другие, из первого компонента $S$, то есть $(R, a)$ и $(S, c)$. На выходе вы получаете последовательность пар ключ-значение из списков ключей и значений. Ключ не нужен. Каждое значение, это тройка $(a, b, c)$ такая, что $(R, a)$ и $(S, c)$ это принадлежат входному списку значений."
      ]
    },
    {
      "cell_type": "code",
      "metadata": {
        "id": "yHiuuTctw86I",
        "colab": {
          "base_uri": "https://localhost:8080/"
        },
        "outputId": "e1e9aefb-f73b-4131-a1ab-f3b8a837c3f9"
      },
      "source": [
        "class KeyValue(NamedTuple):\n",
        "  key: tuple\n",
        "  val: tuple\n",
        "\n",
        "def MAP_R(val: List[str]) -> Iterator[KeyValue]:\n",
        "  b = val[1]\n",
        "  a = val[0]\n",
        "  yield KeyValue(key=(b,), val=('R', a)) # преобр. (a, b) из R в пару (b, (R, a))\n",
        "\n",
        "def MAP_S(val: List[str]) -> Iterator[KeyValue]:\n",
        "  b = val[0]\n",
        "  c = val[1]\n",
        "  yield KeyValue(key=(b,), val=('S', c)) # преобр. (b, c) из S в пару (b, (S, c))\n",
        "\n",
        "def REDUCE(vals: Iterator[tuple], key: tuple) -> Iterator[KeyValue]:\n",
        "  vals_R = []  # значения из R\n",
        "  vals_S = []  # значения из S\n",
        "\n",
        "  for val_type, val in vals: # сортировка значений (R, S)\n",
        "    if val_type == 'R':\n",
        "        vals_R.append(val)\n",
        "    elif val_type == 'S':\n",
        "        vals_S.append(val)\n",
        "\n",
        "  for a in vals_R: # для каждого (R, a) и (S, c)\n",
        "    for c in vals_S:\n",
        "      yield KeyValue(key=key, val=(a, key[0], c)) # создается (a, b, c)\n",
        "\n",
        "def MapReduce(data_R: List[List[str]], data_S: List[List[str]], MAP_R, MAP_S, REDUCE):\n",
        "  map_data_R = [kv for val in data_R for kv in MAP_R(val)]\n",
        "  map_data_S = [kv for val in data_S for kv in MAP_S(val)]\n",
        "  total_map_data = map_data_R + map_data_S\n",
        "\n",
        "  group_data = defaultdict(list) # группировка элементов по ключу b\n",
        "  for kv in total_map_data:\n",
        "    group_data[kv.key].append(kv.val)\n",
        "\n",
        "  reduce_data = []\n",
        "  for key, vals in group_data.items():\n",
        "    reduce_data.extend(REDUCE(iter(vals), key))\n",
        "\n",
        "  return reduce_data\n",
        "\n",
        "\n",
        "data_R = [('Patient_1', 'Blood type: A'),\n",
        "          ('Patient_2', 'Blood type: B'),\n",
        "          ('Patient_3', 'Blood type: AB')]\n",
        "data_S = [('Blood type: A', 'Good'),\n",
        "          ('Blood type: B', 'Good'),\n",
        "          ('Blood type: AB', 'Bad')]\n",
        "\n",
        "res = MapReduce(data_R, data_S, MAP_R, MAP_S, REDUCE)\n",
        "for kv in res:\n",
        "  print(f\"Natural Join: {kv.val}\")"
      ],
      "execution_count": null,
      "outputs": [
        {
          "output_type": "stream",
          "name": "stdout",
          "text": [
            "Natural Join: ('Patient_1', 'Blood type: A', 'Good')\n",
            "Natural Join: ('Patient_2', 'Blood type: B', 'Good')\n",
            "Natural Join: ('Patient_3', 'Blood type: AB', 'Bad')\n"
          ]
        }
      ]
    },
    {
      "cell_type": "markdown",
      "metadata": {
        "id": "kYdlr0YUxE27"
      },
      "source": [
        "### Grouping and Aggregation (Группировка и аггрегация)\n",
        "\n",
        "**The Map Function:** Для каждого кортежа $(a, b, c$) создайте пару $(a, b)$.\n",
        "\n",
        "**The Reduce Function:** Ключ представляет ту или иную группу. Примение аггрегирующую операцию $\\theta$ к списку значений $[b1, b2, . . . , bn]$ ассоциированных с ключом $a$. Возвращайте в выходной поток $(a, x)$, где $x$ результат применения  $\\theta$ к списку. Например, если $\\theta$ это $SUM$, тогда $x = b1 + b2 + · · · + bn$, а если $\\theta$ is $MAX$, тогда $x$ это максимальное из значений $b1, b2, . . . , bn$."
      ]
    },
    {
      "cell_type": "code",
      "metadata": {
        "id": "MLPckfEGxico",
        "colab": {
          "base_uri": "https://localhost:8080/"
        },
        "outputId": "1862d58d-ada8-4d46-97f7-1cfa65048e19"
      },
      "source": [
        "class KeyValue(NamedTuple):\n",
        "  key: tuple\n",
        "  val: int\n",
        "\n",
        "def MAP(val: List[str]) -> Iterator[KeyValue]:\n",
        "  a = val[0] # первый элемент - ключ\n",
        "  b = int(val[1]) # второй элемент - значение\n",
        "  yield KeyValue(key=(a,), val=b) # из (a, b, c) в (a, b)\n",
        "\n",
        "def REDUCE(vals: Iterator[int], key: tuple, aggregation_type: str) -> Iterator[KeyValue]:\n",
        "  val_list = list(vals)\n",
        "\n",
        "  if aggregation_type == \"SUM\": # тип агрегации (сумма или макс. значение)\n",
        "    res = sum(val_list)\n",
        "  elif aggregation_type == \"MAX\":\n",
        "    res = max(val_list)\n",
        "\n",
        "  yield KeyValue(key=key, val=res) # результат агрегации\n",
        "\n",
        "def MapReduce(data: List[List[str]], MAP, REDUCE, aggregation_type: str):\n",
        "  map_data = [kv for val in data for kv in MAP(val)]\n",
        "\n",
        "  group_data = defaultdict(list) # группировка данных по ключу a\n",
        "  for kv in map_data:\n",
        "    group_data[kv.key].append(kv.val)\n",
        "\n",
        "  reduce_data = [] # REDUCE для каждой группы\n",
        "  for key, vals in group_data.items():\n",
        "    reduce_data.extend(REDUCE(iter(vals), key, aggregation_type))\n",
        "\n",
        "  return reduce_data\n",
        "\n",
        "\n",
        "data = [('Age', '28', 'A'),               # (a, b, c)\n",
        "        ('Amount of product', '120', 'C'),\n",
        "        ('Age', '6', 'B'),\n",
        "        ('Degrees', '20', 'B'),\n",
        "        ('Amount of product', '380', 'C')]\n",
        "\n",
        "res_SUM = MapReduce(data, MAP, REDUCE, \"SUM\")\n",
        "res_MAX = MapReduce(data, MAP, REDUCE, \"MAX\")\n",
        "print(\"Aggregation (SUM):\")\n",
        "for kv in res_SUM:\n",
        "  print(f\"{kv.key}: {kv.val}\")\n",
        "print(\"\\nAggregation (MAX):\")\n",
        "for kv in res_MAX:\n",
        "  print(f\"{kv.key}: {kv.val}\")"
      ],
      "execution_count": null,
      "outputs": [
        {
          "output_type": "stream",
          "name": "stdout",
          "text": [
            "Aggregation (SUM):\n",
            "('Age',): 34\n",
            "('Amount of product',): 500\n",
            "('Degrees',): 20\n",
            "\n",
            "Aggregation (MAX):\n",
            "('Age',): 28\n",
            "('Amount of product',): 380\n",
            "('Degrees',): 20\n"
          ]
        }
      ]
    },
    {
      "cell_type": "markdown",
      "metadata": {
        "id": "03IffTEOJgOb"
      },
      "source": [
        "#"
      ]
    },
    {
      "cell_type": "markdown",
      "metadata": {
        "id": "IIrRgvG4RIS4"
      },
      "source": [
        "### Matrix-Vector multiplication\n",
        "\n",
        "Случай, когда вектор не помещается в памяти Map задачи\n"
      ]
    },
    {
      "cell_type": "code",
      "metadata": {
        "id": "KQhDbiL3zS9r",
        "colab": {
          "base_uri": "https://localhost:8080/"
        },
        "outputId": "c1f6fb9a-f7d9-4ffc-a5cb-a7e5d7104065"
      },
      "source": [
        "class KeyValue(NamedTuple):\n",
        "  key: int # индекс строки матрицы\n",
        "  val: float\n",
        "\n",
        "def MAP(row: List[int], vect: List[int], row_ind: int) -> List[KeyValue]:\n",
        "  # создание пары для каждой строки (индекс, результат умножения)\n",
        "  return [KeyValue(key=row_ind, val=row[j] * vect[j]) for j in range(len(vect))]\n",
        "\n",
        "def REDUCE(vals: List[float], key: int) -> float:\n",
        "  return sum(vals) # сумма всех значений в строке\n",
        "\n",
        "def split_vect(vect: List[int], portion: int) -> List[List[int]]:\n",
        "  # разбиваем вектор по порциям\n",
        "  return [vect[i:i + portion] for i in range(0, len(vect), portion)]\n",
        "\n",
        "def MapReduce(matr: List[List[int]], vect: List[int], MAP, REDUCE):\n",
        "  # проверка на размер и его деление\n",
        "  vect_portions = split_vect(vect, 2) if len(vect) > 3 else [vect]\n",
        "\n",
        "  map_data = [] # MAP для каждой строки матрицы\n",
        "  for row_ind, row in enumerate(matr):\n",
        "    for vect_portion in vect_portions:\n",
        "      map_data.extend(map(lambda r: MAP(row, vect_portion, row_ind), [row]))\n",
        "\n",
        "  group_data = defaultdict(list) # группировка данных по индексу строки\n",
        "  for kv in map_data:\n",
        "    for item in kv:\n",
        "      group_data[item.key].append(item.val)\n",
        "\n",
        "  reduce_data = [(key, REDUCE(vals, key)) for key, vals in group_data.items()]\n",
        "\n",
        "  return reduce_data\n",
        "\n",
        "\n",
        "matr = [[4, 0, 2],  # матрица A\n",
        "        [8, 3, 2],\n",
        "        [3, 5, 6]]\n",
        "vect = [2, 1, 2]    # вектор b\n",
        "\n",
        "res = MapReduce(matr, vect, MAP, REDUCE)\n",
        "print(\"Matrix-Vector Multiplication:\")\n",
        "# 4 * 2 + 0 * 1 + 2 * 2 = 12\n",
        "# 8 * 2 + 3 * 1 + 2 * 2 = 23\n",
        "# 3 * 2 + 5 * 1 + 6 * 2 = 23\n",
        "for key, val in res:\n",
        "  print(f\"Row {key}: {val}\")"
      ],
      "execution_count": null,
      "outputs": [
        {
          "output_type": "stream",
          "name": "stdout",
          "text": [
            "Matrix-Vector Multiplication:\n",
            "Row 0: 12\n",
            "Row 1: 23\n",
            "Row 2: 23\n"
          ]
        }
      ]
    },
    {
      "cell_type": "markdown",
      "metadata": {
        "id": "GIo2t7nNxvA9"
      },
      "source": [
        "## Matrix multiplication (Перемножение матриц)\n",
        "\n",
        "Если у нас есть матрица $M$ с элементами $m_{ij}$ в строке $i$ и столбце $j$, и матрица $N$ с элементами $n_{jk}$ в строке $j$ и столбце $k$, тогда их произведение $P = MN$ есть матрица $P$ с элементами $p_{ik}$ в строке $i$ и столбце $k$, где\n",
        "\n",
        "$$p_{ik} =\\sum_{j} m_{ij}n_{jk}$$\n",
        "\n",
        "Необходимым требованием является одинаковое количество столбцов в $M$ и строк в $N$, чтобы операция суммирования по  $j$ была осмысленной. Мы можем размышлять о матрице, как об отношении с тремя атрибутами: номер строки, номер столбца, само значение. Таким образом матрица $M$ предстваляется как отношение $ M(I, J, V )$, с кортежами $(i, j, m_{ij})$, и, аналогично, матрица $N$ представляется как отношение $N(J, K, W)$, с кортежами $(j, k, n_{jk})$. Так как большие матрицы как правило разреженные (большинство значений равно 0), и так как мы можем нулевыми значениями пренебречь (не хранить), такое реляционное представление достаточно эффективно для больших матриц. Однако, возможно, что координаты $i$, $j$, и $k$ неявно закодированы в смещение позиции элемента относительно начала файла, вместо явного хранения. Тогда, функция Map (или Reader) должна быть разработана таким образом, чтобы реконструировать компоненты $I$, $J$, и $K$ кортежей из смещения.\n",
        "\n",
        "Произведение $MN$ это фактически join, за которым следуют группировка по ключу и аггрегация. Таким образом join отношений $M(I, J, V )$ и $N(J, K, W)$, имеющих общим только атрибут $J$, создаст кортежи $(i, j, k, v, w)$ из каждого кортежа $(i, j, v) \\in M$ и кортежа $(j, k, w) \\in N$. Такой 5 компонентный кортеж представляет пару элементов матрицы $(m_{ij} , n_{jk})$. Что нам хотелось бы получить на самом деле, это произведение этих элементов, то есть, 4 компонентный кортеж$(i, j, k, v \\times w)$, так как он представляет произведение $m_{ij}n_{jk}$. Мы представляем отношение как результат одной MapReduce операции, в которой мы можем произвести группировку и аггрегацию, с $I$ и $K$  атрибутами, по которым идёт группировка, и суммой  $V \\times W$.\n",
        "\n",
        "\n",
        "\n"
      ]
    },
    {
      "cell_type": "code",
      "metadata": {
        "id": "1MBkGaLAYVCt"
      },
      "source": [
        "# MapReduce model\n",
        "def flatten(nested_iterable):\n",
        "  for iterable in nested_iterable:\n",
        "    for element in iterable:\n",
        "      yield element\n",
        "\n",
        "def groupbykey(iterable):\n",
        "  t = {}\n",
        "  for (k2, v2) in iterable:\n",
        "    t[k2] = t.get(k2, []) + [v2]\n",
        "  return t.items()\n",
        "\n",
        "def MapReduce(RECORDREADER, MAP, REDUCE):\n",
        "  return flatten(map(lambda x: REDUCE(*x), groupbykey(flatten(map(lambda x: MAP(*x), RECORDREADER())))))"
      ],
      "execution_count": null,
      "outputs": []
    },
    {
      "cell_type": "markdown",
      "metadata": {
        "id": "sMspsOT0ZB35"
      },
      "source": [
        "Реализуйте перемножение матриц с использованием модельного кода MapReduce для одной машины в случае, когда одна матрица хранится в памяти, а другая генерируется RECORDREADER-ом."
      ]
    },
    {
      "cell_type": "code",
      "metadata": {
        "id": "psP1XekbsEjS"
      },
      "source": [
        "import numpy as np\n",
        "I = 2\n",
        "J = 3\n",
        "K = 4*10\n",
        "small_mat = np.random.rand(I,J) # it is legal to access this from RECORDREADER, MAP, REDUCE\n",
        "big_mat = np.random.rand(J,K)\n",
        "\n",
        "def RECORDREADER():\n",
        "  for j in range(big_mat.shape[0]):\n",
        "    for k in range(big_mat.shape[1]):\n",
        "      yield ((j,k), big_mat[j,k])\n",
        "\n",
        "def MAP(k1, v1):\n",
        "  (j, k) = k1\n",
        "  w = v1\n",
        "  # solution code that yield(k2,v2) pairs\n",
        "\n",
        "def REDUCE(key, values):\n",
        "  (i, k) = key\n",
        "  # solution code that yield(k3,v3) pairs"
      ],
      "execution_count": null,
      "outputs": []
    },
    {
      "cell_type": "markdown",
      "metadata": {
        "id": "rnt306LHhHrm"
      },
      "source": [
        "Проверьте своё решение"
      ]
    },
    {
      "cell_type": "code",
      "metadata": {
        "id": "Ewy_ZNYqW5a2",
        "collapsed": true
      },
      "source": [
        "# CHECK THE SOLUTION\n",
        "reference_solution = np.matmul(small_mat, big_mat)\n",
        "solution = MapReduce(RECORDREADER, MAP, REDUCE)\n",
        "\n",
        "def asmatrix(reduce_output):\n",
        "  reduce_output = list(reduce_output)\n",
        "  I = max(i for ((i,k), vw) in reduce_output)+1\n",
        "  K = max(k for ((i,k), vw) in reduce_output)+1\n",
        "  mat = np.empty(shape=(I,K))\n",
        "  for ((i,k), vw) in reduce_output:\n",
        "    mat[i,k] = vw\n",
        "  return mat\n",
        "\n",
        "np.allclose(reference_solution, asmatrix(solution)) # should return true"
      ],
      "execution_count": null,
      "outputs": []
    },
    {
      "cell_type": "code",
      "metadata": {
        "id": "TK7v4CEcfxqf"
      },
      "source": [
        "reduce_output = list(MapReduce(RECORDREADER, MAP, REDUCE))\n",
        "max(i for ((i,k), vw) in reduce_output)"
      ],
      "execution_count": null,
      "outputs": []
    },
    {
      "cell_type": "markdown",
      "metadata": {
        "id": "i4yyg3kOZqJJ"
      },
      "source": [
        "Реализуйте перемножение матриц  с использованием модельного кода MapReduce для одной машины в случае, когда обе матрицы генерируются в RECORDREADER. Например, сначала одна, а потом другая."
      ]
    },
    {
      "cell_type": "code",
      "metadata": {
        "id": "3B7rIAJCaHZq",
        "colab": {
          "base_uri": "https://localhost:8080/"
        },
        "outputId": "77539417-760d-4a6b-8e01-c45880ba0b15"
      },
      "source": [
        "import numpy as np\n",
        "from collections import defaultdict\n",
        "import random\n",
        "\n",
        "# работаем с большой матрицей, элементы переходят в ((j, k), big_matr[j, k])\n",
        "def RECORDREADER():\n",
        "  for j in range(big_matr.shape[0]): # строки\n",
        "    for k in range(big_matr.shape[1]): # столбцы\n",
        "      yield ((j, k), big_matr[j, k])\n",
        "\n",
        "def MAP(k1, v1):\n",
        "  (j, k) = k1 # разбивка ключа\n",
        "  w = v1 # значение большой матрицы\n",
        "  # перебор строк маленькой матрицы и создание пар\n",
        "  for i in range(small_matr.shape[0]):\n",
        "    # ключ - (i, k), значение - small_mat[i, j] * big_mat[j, k]\n",
        "    yield ((i, k), small_matr[i, j] * w)\n",
        "\n",
        "def REDUCE(key, vals):\n",
        "  yield (key, sum(vals)) # для каждого ключа (i, k) ищется сумма произведений\n",
        "\n",
        "def MapReduce(RECORDREADER, MAP, REDUCE):\n",
        "  r_datas = list(RECORDREADER())\n",
        "\n",
        "  map_data = []\n",
        "  for r_data in r_datas:\n",
        "    map_data.extend(MAP(r_data[0], r_data[1]))\n",
        "\n",
        "  group_data = defaultdict(list) # группировка по ключу (i, k)\n",
        "  for k, v in map_data:\n",
        "    group_data[k].append(v)\n",
        "\n",
        "  reduce_data = [] # REDUCE для каждого ключа\n",
        "  for key, vals in group_data.items():\n",
        "    reduce_data.extend(REDUCE(key, vals))\n",
        "\n",
        "  return reduce_data\n",
        "\n",
        "# преобразование результата в матрицу\n",
        "def res_for_matr(reduce_out):\n",
        "  reduce_output = list(reduce_out)\n",
        "  I = max(i for ((i, k), vw) in reduce_out) + 1 # кол-во строк\n",
        "  K = max(k for ((i, k), vw) in reduce_out) + 1 # кол-во столбцов\n",
        "  matr = np.empty(shape=(I, K)) # пустая матрица\n",
        "  for ((i, k), vw) in reduce_out: # ее заполнение\n",
        "    matr[i, k] = vw\n",
        "  return matr\n",
        "\n",
        "\n",
        "I = 2\n",
        "J = 3\n",
        "K = 4 * 10\n",
        "small_matr = np.random.rand(I, J)\n",
        "big_matr = np.random.rand(J, K)\n",
        "\n",
        "numpy_solution = np.matmul(small_matr, big_matr)\n",
        "my_solution = MapReduce(RECORDREADER, MAP, REDUCE)\n",
        "\n",
        "np.allclose(numpy_solution, res_for_matr(my_solution))"
      ],
      "execution_count": null,
      "outputs": [
        {
          "output_type": "execute_result",
          "data": {
            "text/plain": [
              "True"
            ]
          },
          "metadata": {},
          "execution_count": 28
        }
      ]
    },
    {
      "cell_type": "markdown",
      "metadata": {
        "id": "mXyzQi1DaIwo"
      },
      "source": [
        "Реализуйте перемножение матриц с использованием модельного кода MapReduce Distributed, когда каждая матрица генерируется в своём RECORDREADER."
      ]
    },
    {
      "cell_type": "code",
      "metadata": {
        "id": "TDM_s78Rb5eR",
        "colab": {
          "base_uri": "https://localhost:8080/"
        },
        "outputId": "84176f5e-d9f4-4e55-a9e6-a597a2cc0484"
      },
      "source": [
        "I, J, K = 2, 3, 4\n",
        "small_matr = np.random.rand(I, J)\n",
        "big_matr = np.random.rand(J, K)\n",
        "\n",
        "# чтение элементов малой матрицы\n",
        "def RECORDREADER_S():\n",
        "  for i in range(I):\n",
        "    for j in range(J):\n",
        "      yield ((\"S\", i, j), small_matr[i, j]) # указание, что small\n",
        "\n",
        "# чтение элементов большой матрицы\n",
        "def RECORDREADER_B():\n",
        "  for j in range(J):\n",
        "    for k in range(K):\n",
        "      yield ((\"B\", j, k), big_matr[j, k]) # указание, что big\n",
        "\n",
        "# объединение данных из матриц в один список\n",
        "def INPUTFORMAT():\n",
        "  return list(RECORDREADER_S()) + list(RECORDREADER_B())\n",
        "\n",
        "def MAP(key, val):\n",
        "  type_matr, a, b = key # тип и индексы\n",
        "\n",
        "  if type_matr == \"S\": # если элемент относится к малой матрице\n",
        "    i, j = a, b\n",
        "    for k in range(K): # бежим по k\n",
        "      yield ((i, k), ('S', j, val)) # передача (i, k) и значения\n",
        "\n",
        "  elif type_matr == \"B\": # если элемент относится к большой матрице\n",
        "    j, k = a, b\n",
        "    for i in range(I): # бежим по i\n",
        "      yield ((i, k), ('B', j, val))\n",
        "\n",
        "def COMBINER(key, vals):\n",
        "  group_S = defaultdict(list) # группировка значений из матриц\n",
        "  group_B = defaultdict(list)\n",
        "\n",
        "  for type_matr, j, val in vals: # разделение значений по типу матрицы\n",
        "    if type_matr == 'S':\n",
        "      group_S[j].append(val)\n",
        "    elif type_matr == 'B':\n",
        "      group_B[j].append(val)\n",
        "\n",
        "  # вычисление произведения элементов S и B, если имеют общий индекс j\n",
        "  res = sum(v_m * v_n for j in group_S if j in group_B for v_m in group_S[j] for v_n in group_B[j])\n",
        "\n",
        "  yield key, res\n",
        "\n",
        "def REDUCE(key, vals):\n",
        "  yield key, sum(vals) # сложение всех полученных результатов из (i, k)\n",
        "\n",
        "def MapReduce(data, MAP, REDUCE, COMBINER=None):\n",
        "  temp = defaultdict(list)\n",
        "\n",
        "  for rec in data:\n",
        "    for key, val in MAP(*rec):\n",
        "      temp[key].append(val)\n",
        "\n",
        "  # COMBINER для частичного уменьшения объема\n",
        "  if COMBINER:\n",
        "    combine = defaultdict(list)\n",
        "    for key, vals in temp.items():\n",
        "      for c_key, c_val in COMBINER(key, vals):\n",
        "        combine[c_key].append(c_val)\n",
        "    temp = combine # обновление данных\n",
        "\n",
        "  res = {}\n",
        "  for key, vals in temp.items():\n",
        "    for r_key, r_val in REDUCE(key, vals):\n",
        "      res[r_key] = r_val # запись конечного результата\n",
        "\n",
        "  return res\n",
        "\n",
        "\n",
        "data = INPUTFORMAT() # получение входных данных\n",
        "reduce_data = MapReduce(data, MAP, REDUCE, COMBINER)\n",
        "\n",
        "# функция восстановления матрицы\n",
        "def recovery_matr(reduce_data, I, K):\n",
        "  matr = np.zeros((I, K)) # пустая матрица\n",
        "  for (i, k), val in reduce_data.items():\n",
        "    matr[i, k] = val # заполнение значениями\n",
        "  return matr\n",
        "\n",
        "ref = np.matmul(small_matr, big_matr) # пользуемся numpy\n",
        "solution = recovery_matr(reduce_data, I, K) # восстанавливаем матрицу\n",
        "\n",
        "np.allclose(solution, ref)"
      ],
      "execution_count": null,
      "outputs": [
        {
          "output_type": "execute_result",
          "data": {
            "text/plain": [
              "True"
            ]
          },
          "metadata": {},
          "execution_count": 175
        }
      ]
    },
    {
      "cell_type": "markdown",
      "metadata": {
        "id": "ZuSA2P9Db6UM"
      },
      "source": [
        "Обобщите предыдущее решение на случай, когда каждая матрица генерируется несколькими RECORDREADER-ами, и проверьте его работоспособность. Будет ли работать решение, если RECORDREADER-ы будут генерировать случайное подмножество элементов матрицы?"
      ]
    },
    {
      "cell_type": "code",
      "metadata": {
        "id": "ehN0FqRDcwU5",
        "colab": {
          "base_uri": "https://localhost:8080/"
        },
        "outputId": "9893e610-2f8d-4e16-ef06-8c81656f8e47"
      },
      "source": [
        "I, J, K = 2, 3, 4\n",
        "small_matr = np.random.rand(I, J)\n",
        "big_matr = np.random.rand(J, K)\n",
        "\n",
        "# чтение малой матрицы\n",
        "def RECORDREADER_S_NUM1():\n",
        "  for i in range(I):\n",
        "    for j in range(J // 2): # первая половина столбцов\n",
        "      yield (\"S\", i, j), small_matr[i, j]\n",
        "\n",
        "def RECORDREADER_S_NUM2():\n",
        "  for i in range(I):\n",
        "    for j in range(J // 2, J): # вторая половина\n",
        "      yield (\"S\", i, j), small_matr[i, j]\n",
        "\n",
        "# чтение большой матрицы\n",
        "def RECORDREADER_B_NUM1():\n",
        "  for j in range(J):\n",
        "    for k in range(K // 2): # первая половина столбцов\n",
        "      yield (\"B\", j, k), big_matr[j, k]\n",
        "\n",
        "def RECORDREADER_B_NUM2():\n",
        "  for j in range(J):\n",
        "    for k in range(K // 2, K): # вторая половина\n",
        "      yield (\"B\", j, k), big_matr[j, k]\n",
        "\n",
        "# объединение данных\n",
        "def INPUTFORMAT():\n",
        "  return list(RECORDREADER_S_NUM1()) + list(RECORDREADER_S_NUM2()) + list(RECORDREADER_B_NUM1()) + list(RECORDREADER_B_NUM2())\n",
        "\n",
        "# разбиение данных на пары\n",
        "def MAP(key, val):\n",
        "  type_matr, a, b = key\n",
        "\n",
        "  if type_matr == \"S\": # если элемент из малой матрицы\n",
        "    i, j = a, b\n",
        "    for k in range(K): # бежим по k\n",
        "      yield ((i, k), ('S', j, val)) # создание ключа (i, k) и значение\n",
        "\n",
        "  elif type_matr == \"B\": # если элемент из большой матрицы\n",
        "    j, k = a, b\n",
        "    for i in range(I): # бежим по i\n",
        "      yield ((i, k), ('B', j, val))\n",
        "\n",
        "def COMBINER(key, vals):\n",
        "  group_S = defaultdict(list) # группировка значений из матриц\n",
        "  group_B = defaultdict(list)\n",
        "\n",
        "  for type_matr, j, val in vals: # деление данных по типу матрицы\n",
        "    if type_matr == 'S':\n",
        "      group_S[j].append(val) # значение из малой матрицы\n",
        "    elif type_matr == 'B':\n",
        "      group_B[j].append(val) # значение из большой матрицы\n",
        "\n",
        "  # произведение элементов с одинак. индексом j\n",
        "  res = sum(v_m * v_n for j in group_S if j in group_B for v_m in group_S[j] for v_n in group_B[j])\n",
        "\n",
        "  yield key, res\n",
        "\n",
        "def REDUCE(key, vals):\n",
        "  yield key, sum(vals) # сложение всех полученных сумм\n",
        "\n",
        "def MapReduce(data, MAP, REDUCE, COMBINER=None):\n",
        "  temp = defaultdict(list)\n",
        "\n",
        "  for rec in data: # создание пар ключ, значение\n",
        "    for key, val in MAP(*rec):\n",
        "      temp[key].append(val)\n",
        "\n",
        "  # частичное вычисление\n",
        "  if COMBINER:\n",
        "    combine = defaultdict(list)\n",
        "    for key, vals in temp.items():\n",
        "      for c_key, c_val in COMBINER(key, vals):\n",
        "        combine[c_key].append(c_val)\n",
        "    temp = combine\n",
        "\n",
        "  # REDUCE для получения конечного результата\n",
        "  res = {}\n",
        "  for key, vals in temp.items():\n",
        "    for r_key, r_val in REDUCE(key, vals):\n",
        "      res[r_key] = r_val\n",
        "\n",
        "  return res\n",
        "\n",
        "\n",
        "data = INPUTFORMAT() # входные данные\n",
        "reduce_data = MapReduce(data, MAP, REDUCE, COMBINER)\n",
        "\n",
        "# функция для восстановления матрицы\n",
        "def recovery_matr(reduce_data, I, K):\n",
        "  matr = np.zeros((I, K))\n",
        "  for (i, k), val in reduce_data.items():\n",
        "    matr[i, k] = val\n",
        "  return matr\n",
        "\n",
        "ref = np.matmul(small_matr, big_matr) # снова же воспользуемся numpy\n",
        "solution = recovery_matr(reduce_data, I, K) # восстановление матрицы\n",
        "\n",
        "np.allclose(solution, ref)"
      ],
      "execution_count": null,
      "outputs": [
        {
          "output_type": "execute_result",
          "data": {
            "text/plain": [
              "True"
            ]
          },
          "metadata": {},
          "execution_count": 176
        }
      ]
    },
    {
      "cell_type": "markdown",
      "source": [
        "**Будет ли работать решение, если RECORDREADER-ы будут генерировать случайное подмножество элементов матрицы?**\n",
        "\n",
        "Решение не будет корректно работать, так как, если RECORDREADER-ы генерируют случайное подмножество, результат может быть неполным, поскольку некоторые элементы матриц будут отсутствовать, и произведения по этим индексам не будут рассчитаны.\n",
        "\n",
        "**Matrix-vector multiplication #2**"
      ],
      "metadata": {
        "id": "ltGGcGdvw17b"
      }
    },
    {
      "cell_type": "code",
      "source": [
        "from typing import Iterator, NamedTuple\n",
        "import numpy as np\n",
        "\n",
        "# модель элемента данных\n",
        "class MatrixElement(NamedTuple):\n",
        "  row: int # индекс\n",
        "  col: int # столбец\n",
        "  val: int # само значение\n",
        "\n",
        "# исходя из задачи, функция для избежания полной загрузки вектора\n",
        "def split_vect(st: int, size: int):\n",
        "  input_vect = np.array([2, 1, 2]) # сам вектор, также пример взят из моей прошлой реализации\n",
        "  return input_vect[st:st + size]\n",
        "\n",
        "# взято из шаблона Matrix-Vector multiplication\n",
        "def MAP(coordinates: (int, int), val: int):\n",
        "  i, j = coordinates\n",
        "  vect_portion = split_vect(j, 1) # единственное дополнение в виде загрузки элемента вектора\n",
        "  yield (i, val * vect_portion[0])\n",
        "\n",
        "def REDUCE(i: int, products: Iterator[int]):\n",
        "  sum = 0\n",
        "  for p in products:\n",
        "    sum += p\n",
        "  yield (i, sum) # (индекс строки, сумма)\n",
        "\n",
        "def RECORDREADER():\n",
        "  for i in range(mat.shape[0]): # строки\n",
        "    for j in range(mat.shape[1]): # столбцы\n",
        "      yield ((i, j), mat[i, j]) # произведение строки\n",
        "\n",
        "# взятая с шаблона реализация MapReduce\n",
        "def flatten(nested_iterable):\n",
        "  for iterable in nested_iterable:\n",
        "    for element in iterable:\n",
        "      yield element\n",
        "\n",
        "def groupbykey(iterable):\n",
        "    t = {}\n",
        "    for (k2, v2) in iterable:\n",
        "        t[k2] = t.get(k2, []) + [v2]\n",
        "    return t.items()\n",
        "\n",
        "def MapReduce(RECORDREADER, MAP, REDUCE):\n",
        "    return flatten(map(lambda x: REDUCE(*x), groupbykey(flatten(map(lambda x: MAP(*x), RECORDREADER())))))\n",
        "\n",
        "\n",
        "# взяла ту же матрицу, что и в своей первой реализации, для проверки корректности результата\n",
        "# 4 * 2 + 0 * 1 + 2 * 2 = 12\n",
        "# 8 * 2 + 3 * 1 + 2 * 2 = 23\n",
        "# 3 * 2 + 5 * 1 + 6 * 2 = 23\n",
        "matr = np.array([[4, 0, 2],\n",
        "                [8, 3, 2],\n",
        "                [3, 5, 6]])\n",
        "\n",
        "output = list(MapReduce(RECORDREADER, MAP, REDUCE))\n",
        "print(\"Matrix-Vector Multiplication:\")\n",
        "for key, val in output:\n",
        "    print(f\"Row {key}: {val}\")"
      ],
      "metadata": {
        "id": "QtV6pwtMw8iY",
        "colab": {
          "base_uri": "https://localhost:8080/"
        },
        "outputId": "6e1d2e35-4402-4a1e-b6a8-3a997c375f92"
      },
      "execution_count": 5,
      "outputs": [
        {
          "output_type": "stream",
          "name": "stdout",
          "text": [
            "Matrix-Vector Multiplication:\n",
            "Row 0: 12\n",
            "Row 1: 23\n",
            "Row 2: 23\n"
          ]
        }
      ]
    }
  ]
}