{
  "nbformat": 4,
  "nbformat_minor": 0,
  "metadata": {
    "colab": {
      "provenance": []
    },
    "kernelspec": {
      "name": "python3",
      "display_name": "Python 3"
    },
    "language_info": {
      "name": "python"
    }
  },
  "cells": [
    {
      "cell_type": "markdown",
      "source": [
        "**Решите следующие задачи для данных велопарковок Сан-Франциско (trips.csv, stations.csv):**"
      ],
      "metadata": {
        "id": "hR6hVfAAfMVN"
      }
    },
    {
      "cell_type": "code",
      "source": [
        "from pyspark import SparkContext, SparkConf\n",
        "import pyspark.sql as sql\n",
        "from pyspark.sql import functions as F\n",
        "from pyspark.sql import SparkSession\n",
        "from pyspark.sql.types import DoubleType\n",
        "from pyspark.sql.functions import udf, col, max, sum, countDistinct\n",
        "import os\n",
        "from math import sin, cos, sqrt, atan2, radians"
      ],
      "metadata": {
        "id": "LE_H65-2ag8-"
      },
      "execution_count": 1,
      "outputs": []
    },
    {
      "cell_type": "code",
      "execution_count": 2,
      "metadata": {
        "id": "aNOQUeeIZUHe",
        "colab": {
          "base_uri": "https://localhost:8080/"
        },
        "outputId": "a08907e8-ba73-4818-c23c-70bfd351a2d4"
      },
      "outputs": [
        {
          "output_type": "stream",
          "name": "stdout",
          "text": [
            "Requirement already satisfied: findspark in /usr/local/lib/python3.11/dist-packages (2.0.1)\n"
          ]
        }
      ],
      "source": [
        "!apt-get install openjdk-11-jdk-headless -qq > /dev/null\n",
        "!rm spark-3.5.5-bin-hadoop3.tgz\n",
        "!wget -q http://archive.apache.org/dist/spark/spark-3.5.5/spark-3.5.5-bin-hadoop3.tgz\n",
        "!tar xf spark-3.5.5-bin-hadoop3.tgz\n",
        "\n",
        "os.environ[\"JAVA_HOME\"] = \"/usr/lib/jvm/java-11-openjdk-amd64\"\n",
        "os.environ[\"SPARK_HOME\"] = \"/content/spark-3.5.5-bin-hadoop3\"\n",
        "\n",
        "!pip install findspark # для нахождения spark в системе\n",
        "import findspark\n",
        "findspark.init()"
      ]
    },
    {
      "cell_type": "code",
      "source": [
        "# создадим объект sparksession для входа в apache spark\n",
        "spark = SparkSession \\\n",
        "  .builder \\\n",
        "  .appName(\"San_Francisco_bike_parks\") \\\n",
        "  .getOrCreate()\n",
        "\n",
        "print(\"version spark:\", spark.version)"
      ],
      "metadata": {
        "colab": {
          "base_uri": "https://localhost:8080/"
        },
        "id": "Kx5w78qVQgBu",
        "outputId": "dad11ecf-06de-42cf-f83d-e0881c6c0463"
      },
      "execution_count": 3,
      "outputs": [
        {
          "output_type": "stream",
          "name": "stdout",
          "text": [
            "version spark: 3.5.5\n"
          ]
        }
      ]
    },
    {
      "cell_type": "code",
      "source": [
        "# загрузка данных\n",
        "# первая строка - заголовки\n",
        "# определение типов\n",
        "# формат времени\n",
        "trips_data = spark.read \\\n",
        ".option(\"header\", True) \\\n",
        ".option(\"inferSchema\", True) \\\n",
        ".option(\"timestampFormat\", 'M/d/y H:m') \\\n",
        ".csv(os.path.join(\"trips.csv\"))\n",
        "\n",
        "stations_data = spark.read \\\n",
        ".option(\"header\", True) \\\n",
        ".option(\"inferSchema\", True) \\\n",
        ".option(\"timestampFormat\", 'M/d/y H:m') \\\n",
        ".csv(os.path.join(\"stations.csv\"))"
      ],
      "metadata": {
        "id": "kmFy9ekxQ8Xd"
      },
      "execution_count": 4,
      "outputs": []
    },
    {
      "cell_type": "code",
      "source": [
        "# просмотр данных\n",
        "print(\"trips\")\n",
        "trips_data.printSchema()\n",
        "\n",
        "print(\"stations\")\n",
        "stations_data.printSchema()"
      ],
      "metadata": {
        "colab": {
          "base_uri": "https://localhost:8080/"
        },
        "id": "I_2W-P1bQ-kd",
        "outputId": "439a2702-7708-4a2c-eb48-13253ca2ed24"
      },
      "execution_count": 5,
      "outputs": [
        {
          "output_type": "stream",
          "name": "stdout",
          "text": [
            "trips\n",
            "root\n",
            " |-- id: integer (nullable = true)\n",
            " |-- duration: integer (nullable = true)\n",
            " |-- start_date: timestamp (nullable = true)\n",
            " |-- start_station_name: string (nullable = true)\n",
            " |-- start_station_id: integer (nullable = true)\n",
            " |-- end_date: timestamp (nullable = true)\n",
            " |-- end_station_name: string (nullable = true)\n",
            " |-- end_station_id: integer (nullable = true)\n",
            " |-- bike_id: integer (nullable = true)\n",
            " |-- subscription_type: string (nullable = true)\n",
            " |-- zip_code: string (nullable = true)\n",
            "\n",
            "stations\n",
            "root\n",
            " |-- id: integer (nullable = true)\n",
            " |-- name: string (nullable = true)\n",
            " |-- lat: double (nullable = true)\n",
            " |-- long: double (nullable = true)\n",
            " |-- dock_count: integer (nullable = true)\n",
            " |-- city: string (nullable = true)\n",
            " |-- installation_date: string (nullable = true)\n",
            "\n"
          ]
        }
      ]
    },
    {
      "cell_type": "markdown",
      "source": [
        "**1. Найти велосипед с максимальным временем пробега.**"
      ],
      "metadata": {
        "id": "luxWd86lfHhM"
      }
    },
    {
      "cell_type": "code",
      "source": [
        "# группировка данных по идентификатору\n",
        "# сумма всех значений в \"duration\" для каждого идент.\n",
        "# сортировка по убыванию\n",
        "# возврат первой строки\n",
        "max_duration = trips_data.groupBy(\"bike_id\") \\\n",
        "  .agg(F.sum(\"duration\").alias(\"total_trips_duration\")) \\\n",
        "  .orderBy(F.desc(\"total_trips_duration\")) \\\n",
        "  .first()\n",
        "\n",
        "print(f\"bike_id = {max_duration['bike_id']}\")\n",
        "print(f\"duration = {max_duration['total_trips_duration']}\")"
      ],
      "metadata": {
        "colab": {
          "base_uri": "https://localhost:8080/"
        },
        "id": "9h6DzjlrZJGl",
        "outputId": "0feae080-2127-4213-b4a2-4b6918e03553"
      },
      "execution_count": 6,
      "outputs": [
        {
          "output_type": "stream",
          "name": "stdout",
          "text": [
            "bike_id = 535\n",
            "duration = 18611693\n"
          ]
        }
      ]
    },
    {
      "cell_type": "markdown",
      "source": [
        "**2. Найти наибольшее геодезическое расстояние между станциями.**"
      ],
      "metadata": {
        "id": "je37dda-fUVl"
      }
    },
    {
      "cell_type": "code",
      "source": [
        "# функция для вычисления геодезического расстояния\n",
        "# принимает широту и долготу двух точек\n",
        "def geodesic_dist(lat_st1, long_st1, lat_st2, long_st2):\n",
        "  # перевод широты и долготы из градусов в радианы\n",
        "  lat_st1, long_st1, lat_st2, long_st2 = map(radians, [lat_st1, long_st1, lat_st2, long_st2])\n",
        "  d_lat, d_long = lat_st2 - lat_st1, long_st2 - long_st1 # вычисление разницы\n",
        "  # формула Хаверсина\n",
        "  a = sin(d_lat / 2) ** 2 + cos(lat_st1) * cos(lat_st2) * sin(d_long / 2) ** 2\n",
        "  c = 2 * atan2(sqrt(a), sqrt(1 - a)) # вычисление углового расстояния между точками\n",
        "  return 6373 * c # домножение на радиус земли\n",
        "\n",
        "# преобразование функции в пользовательскую spark\n",
        "geodesic_dist_udf = F.udf(geodesic_dist, DoubleType())\n",
        "\n",
        "# создаем копию stations_data\n",
        "# декартово произведение, каждая станция со всеми другими\n",
        "# вычисление расстояния между каждой парой станций\n",
        "# макс. расстояние между всеми станциями\n",
        "# извлечение результата, берем макс. расстояние\n",
        "max_dist = stations_data.alias(\"station1\") \\\n",
        "  .crossJoin(stations_data.alias(\"station2\")) \\\n",
        "  .withColumn(\n",
        "    \"geodesic_dist\",\n",
        "    geodesic_dist_udf(\n",
        "      F.col(\"station1.lat\"),\n",
        "      F.col(\"station1.long\"),\n",
        "      F.col(\"station2.lat\"),\n",
        "      F.col(\"station2.long\")\n",
        "    )\n",
        "  ) \\\n",
        "  .agg(F.max(\"geodesic_dist\").alias(\"max_distance\")) \\\n",
        "  .collect()[0][\"max_distance\"]\n",
        "\n",
        "print(f\"max distance = {max_dist}\")"
      ],
      "metadata": {
        "colab": {
          "base_uri": "https://localhost:8080/"
        },
        "id": "ZbAvPavTfGTX",
        "outputId": "d6a8ce21-3eb5-48c2-8012-28a1f895ba0e"
      },
      "execution_count": 7,
      "outputs": [
        {
          "output_type": "stream",
          "name": "stdout",
          "text": [
            "max distance = 69.9428256877473\n"
          ]
        }
      ]
    },
    {
      "cell_type": "markdown",
      "source": [
        "**3. Найти путь велосипеда с максимальным временем пробега через станции.**"
      ],
      "metadata": {
        "id": "P28sIVSqhv4s"
      }
    },
    {
      "cell_type": "code",
      "source": [
        "# сортировка trips_data по \"duration\" в порядке убывания, отбор нужных столбцов, берем первую строку\n",
        "trip_max_duration = trips_data.orderBy(col(\"duration\").desc()).select(\"start_station_name\", \"end_station_name\", \"duration\").first()\n",
        "\n",
        "print(f\"the longest trip = {trip_max_duration['duration']}\")\n",
        "print(f\"from = {trip_max_duration['start_station_name']}\")\n",
        "print(f\"to = {trip_max_duration['end_station_name']}\")"
      ],
      "metadata": {
        "colab": {
          "base_uri": "https://localhost:8080/"
        },
        "id": "DbxDdsubhvJd",
        "outputId": "c6f043e6-87ad-4128-9333-96a3bb2b0da7"
      },
      "execution_count": 8,
      "outputs": [
        {
          "output_type": "stream",
          "name": "stdout",
          "text": [
            "the longest trip = 17270400\n",
            "from = South Van Ness at Market\n",
            "to = 2nd at Folsom\n"
          ]
        }
      ]
    },
    {
      "cell_type": "markdown",
      "source": [
        "**4. Найти количество велосипедов в системе.**"
      ],
      "metadata": {
        "id": "6Th3FDzAjV1M"
      }
    },
    {
      "cell_type": "code",
      "source": [
        "# выбираем столбец \"bike_id\", убираем дубликаты и подсчитываем кол-во строк\n",
        "bikes_count = trips_data.select(\"bike_id\").distinct().count()\n",
        "\n",
        "print(f\"number of bikes = {bikes_count}\")"
      ],
      "metadata": {
        "colab": {
          "base_uri": "https://localhost:8080/"
        },
        "id": "9l0eYZzejVbF",
        "outputId": "a71ffad7-14d3-41b2-c7d3-26fabdc062a5"
      },
      "execution_count": 9,
      "outputs": [
        {
          "output_type": "stream",
          "name": "stdout",
          "text": [
            "number of bikes = 700\n"
          ]
        }
      ]
    },
    {
      "cell_type": "markdown",
      "source": [
        "**5. Найти пользователей потративших на поездки более 3 часов.**"
      ],
      "metadata": {
        "id": "mojm6lQSjpv0"
      }
    },
    {
      "cell_type": "code",
      "source": [
        "# группировка данных по id, для каждой группы подсчет суммарного времени\n",
        "# обзываем столбец\n",
        "# фильтрация данных, оставляем строки, где > 3 часов\n",
        "trips_data.groupBy(\"bike_id\").sum(\"duration\") \\\n",
        "  .withColumnRenamed(\"sum(duration)\", \"sum_time\") \\\n",
        "  .filter(\"sum_time > 10800\") \\\n",
        "  .show()"
      ],
      "metadata": {
        "colab": {
          "base_uri": "https://localhost:8080/"
        },
        "id": "aJm5pow4jpRE",
        "outputId": "3c6ed832-3ca7-4d2d-e474-613ee6414ef9"
      },
      "execution_count": 10,
      "outputs": [
        {
          "output_type": "stream",
          "name": "stdout",
          "text": [
            "+-------+--------+\n",
            "|bike_id|sum_time|\n",
            "+-------+--------+\n",
            "|    471| 1718831|\n",
            "|    496| 1679568|\n",
            "|    148|  332138|\n",
            "|    463| 1722796|\n",
            "|    540| 1752835|\n",
            "|    392| 1789476|\n",
            "|    623| 2037219|\n",
            "|    243|  307458|\n",
            "|    516| 1896751|\n",
            "|     31|  407907|\n",
            "|    580| 1034382|\n",
            "|    137| 1529200|\n",
            "|    251| 1282980|\n",
            "|    451| 1695574|\n",
            "|     85| 1214769|\n",
            "|    458| 1647080|\n",
            "|     65|  216922|\n",
            "|    588|  266415|\n",
            "|    255|  396395|\n",
            "|     53|  226389|\n",
            "+-------+--------+\n",
            "only showing top 20 rows\n",
            "\n"
          ]
        }
      ]
    }
  ]
}